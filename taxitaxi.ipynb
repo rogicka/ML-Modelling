{
 "cells": [
  {
   "cell_type": "code",
   "execution_count": 1,
   "id": "667693ce-6853-47a4-9119-4c7d05735ee8",
   "metadata": {},
   "outputs": [],
   "source": [
    "import pandas as pd\n",
    "import numpy as np\n",
    "import matplotlib.pyplot as plt\n",
    "import seaborn as sns\n",
    "from sklearn.model_selection import train_test_split\n",
    "from sklearn.linear_model import LinearRegression, Lasso, Ridge, ElasticNet\n",
    "from sklearn.metrics import r2_score, mean_absolute_error, mean_squared_error\n",
    "from sklearn.preprocessing import PolynomialFeatures, PowerTransformer\n",
    "\n",
    "import warnings\n",
    "warnings.filterwarnings('ignore')"
   ]
  },
  {
   "cell_type": "code",
   "execution_count": 2,
   "id": "eac6f79b-7539-4ae2-9e4f-2a901652dc35",
   "metadata": {},
   "outputs": [
    {
     "data": {
      "text/html": [
       "<div>\n",
       "<style scoped>\n",
       "    .dataframe tbody tr th:only-of-type {\n",
       "        vertical-align: middle;\n",
       "    }\n",
       "\n",
       "    .dataframe tbody tr th {\n",
       "        vertical-align: top;\n",
       "    }\n",
       "\n",
       "    .dataframe thead th {\n",
       "        text-align: right;\n",
       "    }\n",
       "</style>\n",
       "<table border=\"1\" class=\"dataframe\">\n",
       "  <thead>\n",
       "    <tr style=\"text-align: right;\">\n",
       "      <th></th>\n",
       "      <th>fare_amount</th>\n",
       "      <th>pickup_datetime</th>\n",
       "      <th>pickup_longitude</th>\n",
       "      <th>pickup_latitude</th>\n",
       "      <th>dropoff_longitude</th>\n",
       "      <th>dropoff_latitude</th>\n",
       "      <th>passenger_count</th>\n",
       "    </tr>\n",
       "  </thead>\n",
       "  <tbody>\n",
       "    <tr>\n",
       "      <th>0</th>\n",
       "      <td>4.5</td>\n",
       "      <td>2009-06-15 17:26:21</td>\n",
       "      <td>-73.844311</td>\n",
       "      <td>40.721319</td>\n",
       "      <td>-73.841610</td>\n",
       "      <td>40.712278</td>\n",
       "      <td>1.0</td>\n",
       "    </tr>\n",
       "    <tr>\n",
       "      <th>1</th>\n",
       "      <td>16.9</td>\n",
       "      <td>2010-01-05 16:52:16</td>\n",
       "      <td>-74.016048</td>\n",
       "      <td>40.711303</td>\n",
       "      <td>-73.979268</td>\n",
       "      <td>40.782004</td>\n",
       "      <td>1.0</td>\n",
       "    </tr>\n",
       "    <tr>\n",
       "      <th>2</th>\n",
       "      <td>5.7</td>\n",
       "      <td>2011-08-18 00:35:00</td>\n",
       "      <td>-73.982738</td>\n",
       "      <td>40.761270</td>\n",
       "      <td>-73.991242</td>\n",
       "      <td>40.750562</td>\n",
       "      <td>2.0</td>\n",
       "    </tr>\n",
       "    <tr>\n",
       "      <th>3</th>\n",
       "      <td>7.7</td>\n",
       "      <td>2012-04-21 04:30:42</td>\n",
       "      <td>-73.987130</td>\n",
       "      <td>40.733143</td>\n",
       "      <td>-73.991567</td>\n",
       "      <td>40.758092</td>\n",
       "      <td>1.0</td>\n",
       "    </tr>\n",
       "    <tr>\n",
       "      <th>4</th>\n",
       "      <td>5.3</td>\n",
       "      <td>2010-03-09 07:51:00</td>\n",
       "      <td>-73.968095</td>\n",
       "      <td>40.768008</td>\n",
       "      <td>-73.956655</td>\n",
       "      <td>40.783762</td>\n",
       "      <td>1.0</td>\n",
       "    </tr>\n",
       "    <tr>\n",
       "      <th>...</th>\n",
       "      <td>...</td>\n",
       "      <td>...</td>\n",
       "      <td>...</td>\n",
       "      <td>...</td>\n",
       "      <td>...</td>\n",
       "      <td>...</td>\n",
       "      <td>...</td>\n",
       "    </tr>\n",
       "    <tr>\n",
       "      <th>18914</th>\n",
       "      <td>22.5</td>\n",
       "      <td>2013-06-02 01:13:00</td>\n",
       "      <td>-73.997090</td>\n",
       "      <td>40.720635</td>\n",
       "      <td>-73.971983</td>\n",
       "      <td>40.794597</td>\n",
       "      <td>2.0</td>\n",
       "    </tr>\n",
       "    <tr>\n",
       "      <th>18915</th>\n",
       "      <td>5.5</td>\n",
       "      <td>2014-10-15 14:47:00</td>\n",
       "      <td>-73.979980</td>\n",
       "      <td>40.751825</td>\n",
       "      <td>-73.973952</td>\n",
       "      <td>40.759965</td>\n",
       "      <td>1.0</td>\n",
       "    </tr>\n",
       "    <tr>\n",
       "      <th>18916</th>\n",
       "      <td>6.5</td>\n",
       "      <td>2015-06-28 13:00:47</td>\n",
       "      <td>-73.982315</td>\n",
       "      <td>40.762691</td>\n",
       "      <td>-73.993202</td>\n",
       "      <td>40.767578</td>\n",
       "      <td>1.0</td>\n",
       "    </tr>\n",
       "    <tr>\n",
       "      <th>18917</th>\n",
       "      <td>5.3</td>\n",
       "      <td>2011-10-28 17:48:45</td>\n",
       "      <td>-74.001457</td>\n",
       "      <td>40.739338</td>\n",
       "      <td>-73.993607</td>\n",
       "      <td>40.751885</td>\n",
       "      <td>1.0</td>\n",
       "    </tr>\n",
       "    <tr>\n",
       "      <th>18918</th>\n",
       "      <td>4.5</td>\n",
       "      <td>2014-07-12 20:25:00</td>\n",
       "      <td>-73.975023</td>\n",
       "      <td>40.761285</td>\n",
       "      <td>-73.982030</td>\n",
       "      <td>40.700000</td>\n",
       "      <td>NaN</td>\n",
       "    </tr>\n",
       "  </tbody>\n",
       "</table>\n",
       "<p>18919 rows × 7 columns</p>\n",
       "</div>"
      ],
      "text/plain": [
       "       fare_amount      pickup_datetime  pickup_longitude  pickup_latitude  \\\n",
       "0              4.5  2009-06-15 17:26:21        -73.844311        40.721319   \n",
       "1             16.9  2010-01-05 16:52:16        -74.016048        40.711303   \n",
       "2              5.7  2011-08-18 00:35:00        -73.982738        40.761270   \n",
       "3              7.7  2012-04-21 04:30:42        -73.987130        40.733143   \n",
       "4              5.3  2010-03-09 07:51:00        -73.968095        40.768008   \n",
       "...            ...                  ...               ...              ...   \n",
       "18914         22.5  2013-06-02 01:13:00        -73.997090        40.720635   \n",
       "18915          5.5  2014-10-15 14:47:00        -73.979980        40.751825   \n",
       "18916          6.5  2015-06-28 13:00:47        -73.982315        40.762691   \n",
       "18917          5.3  2011-10-28 17:48:45        -74.001457        40.739338   \n",
       "18918          4.5  2014-07-12 20:25:00        -73.975023        40.761285   \n",
       "\n",
       "       dropoff_longitude  dropoff_latitude  passenger_count  \n",
       "0             -73.841610         40.712278              1.0  \n",
       "1             -73.979268         40.782004              1.0  \n",
       "2             -73.991242         40.750562              2.0  \n",
       "3             -73.991567         40.758092              1.0  \n",
       "4             -73.956655         40.783762              1.0  \n",
       "...                  ...               ...              ...  \n",
       "18914         -73.971983         40.794597              2.0  \n",
       "18915         -73.973952         40.759965              1.0  \n",
       "18916         -73.993202         40.767578              1.0  \n",
       "18917         -73.993607         40.751885              1.0  \n",
       "18918         -73.982030         40.700000              NaN  \n",
       "\n",
       "[18919 rows x 7 columns]"
      ]
     },
     "execution_count": 2,
     "metadata": {},
     "output_type": "execute_result"
    }
   ],
   "source": [
    "df = pd.read_csv('taxi.csv')\n",
    "df"
   ]
  },
  {
   "cell_type": "code",
   "execution_count": 3,
   "id": "f04486dc-1087-4912-a4d4-add35c8f590f",
   "metadata": {},
   "outputs": [],
   "source": [
    "## Check Summary info"
   ]
  },
  {
   "cell_type": "code",
   "execution_count": 4,
   "id": "638e4684-0bd9-4483-a53c-0704183b50fa",
   "metadata": {},
   "outputs": [
    {
     "name": "stdout",
     "output_type": "stream",
     "text": [
      "<class 'pandas.core.frame.DataFrame'>\n",
      "RangeIndex: 18919 entries, 0 to 18918\n",
      "Data columns (total 7 columns):\n",
      " #   Column             Non-Null Count  Dtype  \n",
      "---  ------             --------------  -----  \n",
      " 0   fare_amount        18919 non-null  float64\n",
      " 1   pickup_datetime    18919 non-null  object \n",
      " 2   pickup_longitude   18919 non-null  float64\n",
      " 3   pickup_latitude    18919 non-null  float64\n",
      " 4   dropoff_longitude  18919 non-null  float64\n",
      " 5   dropoff_latitude   18919 non-null  float64\n",
      " 6   passenger_count    18918 non-null  float64\n",
      "dtypes: float64(6), object(1)\n",
      "memory usage: 1.0+ MB\n"
     ]
    }
   ],
   "source": [
    "df.info()"
   ]
  },
  {
   "cell_type": "code",
   "execution_count": 5,
   "id": "4823d7e9-d49d-4d6a-9846-80bf3b7e567a",
   "metadata": {},
   "outputs": [],
   "source": [
    "## Check Missing Value"
   ]
  },
  {
   "cell_type": "code",
   "execution_count": 6,
   "id": "0abab829-efee-465b-abed-e349672c590d",
   "metadata": {},
   "outputs": [
    {
     "data": {
      "text/plain": [
       "fare_amount          0\n",
       "pickup_datetime      0\n",
       "pickup_longitude     0\n",
       "pickup_latitude      0\n",
       "dropoff_longitude    0\n",
       "dropoff_latitude     0\n",
       "passenger_count      1\n",
       "dtype: int64"
      ]
     },
     "execution_count": 6,
     "metadata": {},
     "output_type": "execute_result"
    }
   ],
   "source": [
    "df.isna().sum()"
   ]
  },
  {
   "cell_type": "code",
   "execution_count": 7,
   "id": "f14bfb5a-dfc4-444d-b45a-ef59d1463f47",
   "metadata": {},
   "outputs": [],
   "source": [
    "### Handling Missing Value"
   ]
  },
  {
   "cell_type": "code",
   "execution_count": 8,
   "id": "fdf2c1c3-c48f-4205-9a1b-2be9dda88c3a",
   "metadata": {},
   "outputs": [],
   "source": [
    "df.dropna(inplace=True)"
   ]
  },
  {
   "cell_type": "code",
   "execution_count": 9,
   "id": "cbdee4c4-7824-4562-a92e-4c5b9e9dd9b4",
   "metadata": {},
   "outputs": [
    {
     "data": {
      "text/plain": [
       "fare_amount          0\n",
       "pickup_datetime      0\n",
       "pickup_longitude     0\n",
       "pickup_latitude      0\n",
       "dropoff_longitude    0\n",
       "dropoff_latitude     0\n",
       "passenger_count      0\n",
       "dtype: int64"
      ]
     },
     "execution_count": 9,
     "metadata": {},
     "output_type": "execute_result"
    }
   ],
   "source": [
    "df.isna().sum()"
   ]
  },
  {
   "cell_type": "code",
   "execution_count": 10,
   "id": "42b2abd1-7e95-4851-931b-e17e279d3593",
   "metadata": {},
   "outputs": [],
   "source": [
    "## Check DataTypes"
   ]
  },
  {
   "cell_type": "code",
   "execution_count": 11,
   "id": "0c69129e-d70a-4292-8b09-ea28266ae641",
   "metadata": {},
   "outputs": [
    {
     "data": {
      "text/plain": [
       "fare_amount          float64\n",
       "pickup_datetime       object\n",
       "pickup_longitude     float64\n",
       "pickup_latitude      float64\n",
       "dropoff_longitude    float64\n",
       "dropoff_latitude     float64\n",
       "passenger_count      float64\n",
       "dtype: object"
      ]
     },
     "execution_count": 11,
     "metadata": {},
     "output_type": "execute_result"
    }
   ],
   "source": [
    "df.dtypes"
   ]
  },
  {
   "cell_type": "code",
   "execution_count": 12,
   "id": "a17f7128-06ec-492e-b4ce-4fa1c107b1e1",
   "metadata": {},
   "outputs": [],
   "source": [
    "## Data Types Conversion"
   ]
  },
  {
   "cell_type": "code",
   "execution_count": 13,
   "id": "96085216-564b-4ae8-912d-dc87ae40a681",
   "metadata": {},
   "outputs": [],
   "source": [
    "df['pickup_datetime'] = pd.to_datetime(df['pickup_datetime'])"
   ]
  },
  {
   "cell_type": "code",
   "execution_count": 14,
   "id": "1d8e709a-71b8-4ee0-9305-efb09c81da80",
   "metadata": {},
   "outputs": [
    {
     "data": {
      "text/plain": [
       "fare_amount                 float64\n",
       "pickup_datetime      datetime64[ns]\n",
       "pickup_longitude            float64\n",
       "pickup_latitude             float64\n",
       "dropoff_longitude           float64\n",
       "dropoff_latitude            float64\n",
       "passenger_count             float64\n",
       "dtype: object"
      ]
     },
     "execution_count": 14,
     "metadata": {},
     "output_type": "execute_result"
    }
   ],
   "source": [
    "df.dtypes"
   ]
  },
  {
   "cell_type": "code",
   "execution_count": 15,
   "id": "4f5606e3-9156-4ca7-bebc-8c482a6fa24b",
   "metadata": {},
   "outputs": [
    {
     "data": {
      "text/html": [
       "<div>\n",
       "<style scoped>\n",
       "    .dataframe tbody tr th:only-of-type {\n",
       "        vertical-align: middle;\n",
       "    }\n",
       "\n",
       "    .dataframe tbody tr th {\n",
       "        vertical-align: top;\n",
       "    }\n",
       "\n",
       "    .dataframe thead th {\n",
       "        text-align: right;\n",
       "    }\n",
       "</style>\n",
       "<table border=\"1\" class=\"dataframe\">\n",
       "  <thead>\n",
       "    <tr style=\"text-align: right;\">\n",
       "      <th></th>\n",
       "      <th>fare_amount</th>\n",
       "      <th>pickup_datetime</th>\n",
       "      <th>pickup_longitude</th>\n",
       "      <th>pickup_latitude</th>\n",
       "      <th>dropoff_longitude</th>\n",
       "      <th>dropoff_latitude</th>\n",
       "      <th>passenger_count</th>\n",
       "    </tr>\n",
       "  </thead>\n",
       "  <tbody>\n",
       "    <tr>\n",
       "      <th>0</th>\n",
       "      <td>4.5</td>\n",
       "      <td>2009-06-15 17:26:21</td>\n",
       "      <td>-73.844311</td>\n",
       "      <td>40.721319</td>\n",
       "      <td>-73.841610</td>\n",
       "      <td>40.712278</td>\n",
       "      <td>1.0</td>\n",
       "    </tr>\n",
       "    <tr>\n",
       "      <th>1</th>\n",
       "      <td>16.9</td>\n",
       "      <td>2010-01-05 16:52:16</td>\n",
       "      <td>-74.016048</td>\n",
       "      <td>40.711303</td>\n",
       "      <td>-73.979268</td>\n",
       "      <td>40.782004</td>\n",
       "      <td>1.0</td>\n",
       "    </tr>\n",
       "    <tr>\n",
       "      <th>2</th>\n",
       "      <td>5.7</td>\n",
       "      <td>2011-08-18 00:35:00</td>\n",
       "      <td>-73.982738</td>\n",
       "      <td>40.761270</td>\n",
       "      <td>-73.991242</td>\n",
       "      <td>40.750562</td>\n",
       "      <td>2.0</td>\n",
       "    </tr>\n",
       "    <tr>\n",
       "      <th>3</th>\n",
       "      <td>7.7</td>\n",
       "      <td>2012-04-21 04:30:42</td>\n",
       "      <td>-73.987130</td>\n",
       "      <td>40.733143</td>\n",
       "      <td>-73.991567</td>\n",
       "      <td>40.758092</td>\n",
       "      <td>1.0</td>\n",
       "    </tr>\n",
       "    <tr>\n",
       "      <th>4</th>\n",
       "      <td>5.3</td>\n",
       "      <td>2010-03-09 07:51:00</td>\n",
       "      <td>-73.968095</td>\n",
       "      <td>40.768008</td>\n",
       "      <td>-73.956655</td>\n",
       "      <td>40.783762</td>\n",
       "      <td>1.0</td>\n",
       "    </tr>\n",
       "  </tbody>\n",
       "</table>\n",
       "</div>"
      ],
      "text/plain": [
       "   fare_amount     pickup_datetime  pickup_longitude  pickup_latitude  \\\n",
       "0          4.5 2009-06-15 17:26:21        -73.844311        40.721319   \n",
       "1         16.9 2010-01-05 16:52:16        -74.016048        40.711303   \n",
       "2          5.7 2011-08-18 00:35:00        -73.982738        40.761270   \n",
       "3          7.7 2012-04-21 04:30:42        -73.987130        40.733143   \n",
       "4          5.3 2010-03-09 07:51:00        -73.968095        40.768008   \n",
       "\n",
       "   dropoff_longitude  dropoff_latitude  passenger_count  \n",
       "0         -73.841610         40.712278              1.0  \n",
       "1         -73.979268         40.782004              1.0  \n",
       "2         -73.991242         40.750562              2.0  \n",
       "3         -73.991567         40.758092              1.0  \n",
       "4         -73.956655         40.783762              1.0  "
      ]
     },
     "execution_count": 15,
     "metadata": {},
     "output_type": "execute_result"
    }
   ],
   "source": [
    "df.head()"
   ]
  },
  {
   "cell_type": "code",
   "execution_count": 16,
   "id": "e25d745c-6ed2-47ba-9ac1-cffee3e82f22",
   "metadata": {},
   "outputs": [],
   "source": [
    "## Data describe"
   ]
  },
  {
   "cell_type": "code",
   "execution_count": 17,
   "id": "cd8cebb8-cecf-4b01-ad73-ab7bb8ddf7d6",
   "metadata": {},
   "outputs": [
    {
     "data": {
      "text/html": [
       "<div>\n",
       "<style scoped>\n",
       "    .dataframe tbody tr th:only-of-type {\n",
       "        vertical-align: middle;\n",
       "    }\n",
       "\n",
       "    .dataframe tbody tr th {\n",
       "        vertical-align: top;\n",
       "    }\n",
       "\n",
       "    .dataframe thead th {\n",
       "        text-align: right;\n",
       "    }\n",
       "</style>\n",
       "<table border=\"1\" class=\"dataframe\">\n",
       "  <thead>\n",
       "    <tr style=\"text-align: right;\">\n",
       "      <th></th>\n",
       "      <th>fare_amount</th>\n",
       "      <th>pickup_longitude</th>\n",
       "      <th>pickup_latitude</th>\n",
       "      <th>dropoff_longitude</th>\n",
       "      <th>dropoff_latitude</th>\n",
       "      <th>passenger_count</th>\n",
       "    </tr>\n",
       "  </thead>\n",
       "  <tbody>\n",
       "    <tr>\n",
       "      <th>count</th>\n",
       "      <td>18918.000000</td>\n",
       "      <td>18918.000000</td>\n",
       "      <td>18918.000000</td>\n",
       "      <td>18918.000000</td>\n",
       "      <td>18918.000000</td>\n",
       "      <td>18918.000000</td>\n",
       "    </tr>\n",
       "    <tr>\n",
       "      <th>mean</th>\n",
       "      <td>11.289221</td>\n",
       "      <td>-72.486834</td>\n",
       "      <td>39.925272</td>\n",
       "      <td>-72.498734</td>\n",
       "      <td>39.913116</td>\n",
       "      <td>1.657205</td>\n",
       "    </tr>\n",
       "    <tr>\n",
       "      <th>std</th>\n",
       "      <td>9.551667</td>\n",
       "      <td>10.503808</td>\n",
       "      <td>6.715228</td>\n",
       "      <td>10.461670</td>\n",
       "      <td>6.160671</td>\n",
       "      <td>1.282236</td>\n",
       "    </tr>\n",
       "    <tr>\n",
       "      <th>min</th>\n",
       "      <td>-3.000000</td>\n",
       "      <td>-74.438233</td>\n",
       "      <td>-74.006893</td>\n",
       "      <td>-84.654241</td>\n",
       "      <td>-74.006377</td>\n",
       "      <td>0.000000</td>\n",
       "    </tr>\n",
       "    <tr>\n",
       "      <th>25%</th>\n",
       "      <td>6.000000</td>\n",
       "      <td>-73.992223</td>\n",
       "      <td>40.734687</td>\n",
       "      <td>-73.991233</td>\n",
       "      <td>40.734589</td>\n",
       "      <td>1.000000</td>\n",
       "    </tr>\n",
       "    <tr>\n",
       "      <th>50%</th>\n",
       "      <td>8.500000</td>\n",
       "      <td>-73.981758</td>\n",
       "      <td>40.752620</td>\n",
       "      <td>-73.980234</td>\n",
       "      <td>40.753566</td>\n",
       "      <td>1.000000</td>\n",
       "    </tr>\n",
       "    <tr>\n",
       "      <th>75%</th>\n",
       "      <td>12.500000</td>\n",
       "      <td>-73.966788</td>\n",
       "      <td>40.767427</td>\n",
       "      <td>-73.963834</td>\n",
       "      <td>40.768067</td>\n",
       "      <td>2.000000</td>\n",
       "    </tr>\n",
       "    <tr>\n",
       "      <th>max</th>\n",
       "      <td>180.000000</td>\n",
       "      <td>40.766125</td>\n",
       "      <td>401.083332</td>\n",
       "      <td>40.802437</td>\n",
       "      <td>41.366138</td>\n",
       "      <td>6.000000</td>\n",
       "    </tr>\n",
       "  </tbody>\n",
       "</table>\n",
       "</div>"
      ],
      "text/plain": [
       "        fare_amount  pickup_longitude  pickup_latitude  dropoff_longitude  \\\n",
       "count  18918.000000      18918.000000     18918.000000       18918.000000   \n",
       "mean      11.289221        -72.486834        39.925272         -72.498734   \n",
       "std        9.551667         10.503808         6.715228          10.461670   \n",
       "min       -3.000000        -74.438233       -74.006893         -84.654241   \n",
       "25%        6.000000        -73.992223        40.734687         -73.991233   \n",
       "50%        8.500000        -73.981758        40.752620         -73.980234   \n",
       "75%       12.500000        -73.966788        40.767427         -73.963834   \n",
       "max      180.000000         40.766125       401.083332          40.802437   \n",
       "\n",
       "       dropoff_latitude  passenger_count  \n",
       "count      18918.000000     18918.000000  \n",
       "mean          39.913116         1.657205  \n",
       "std            6.160671         1.282236  \n",
       "min          -74.006377         0.000000  \n",
       "25%           40.734589         1.000000  \n",
       "50%           40.753566         1.000000  \n",
       "75%           40.768067         2.000000  \n",
       "max           41.366138         6.000000  "
      ]
     },
     "execution_count": 17,
     "metadata": {},
     "output_type": "execute_result"
    }
   ],
   "source": [
    "df.describe()"
   ]
  },
  {
   "cell_type": "code",
   "execution_count": 18,
   "id": "39bac033-83dc-477c-a81b-b266de84c6f8",
   "metadata": {},
   "outputs": [],
   "source": [
    "### Data preparation"
   ]
  },
  {
   "cell_type": "markdown",
   "id": "c8516dd8-bd18-4f30-ad95-d7ae087434bb",
   "metadata": {},
   "source": [
    "## Adding Features :\n",
    "- Jarak (Simplify)\n",
    "- Jam (Jam pulang dan jam berangkat kantor)\n",
    "- Hari : Hari kerja atau Libur\n",
    "- Lokasi\n",
    "- Tahun\n",
    "- Jumlah penumpang"
   ]
  },
  {
   "cell_type": "code",
   "execution_count": 19,
   "id": "32ba02cb-1d0f-4edc-b93a-7388a74f9db9",
   "metadata": {},
   "outputs": [],
   "source": [
    "### Features Extraction => Datetime Extract"
   ]
  },
  {
   "cell_type": "code",
   "execution_count": 20,
   "id": "43f9fe15-f679-4e00-a838-2f05ef36d7d4",
   "metadata": {},
   "outputs": [],
   "source": [
    "pickup_dt = df['pickup_datetime'].dt"
   ]
  },
  {
   "cell_type": "code",
   "execution_count": 21,
   "id": "c9a7f99c-f134-431e-ab52-c71d850fec48",
   "metadata": {},
   "outputs": [],
   "source": [
    "df['year'] = pickup_dt.year ## Mengambil tahun\n",
    "df['month'] = pickup_dt.month ## Mengambil bulan\n",
    "df['date'] = pickup_dt.day ## Mengambil tanggal"
   ]
  },
  {
   "cell_type": "code",
   "execution_count": 22,
   "id": "daccc137-755d-4d8c-a10d-99824b8594f1",
   "metadata": {},
   "outputs": [
    {
     "data": {
      "text/html": [
       "<div>\n",
       "<style scoped>\n",
       "    .dataframe tbody tr th:only-of-type {\n",
       "        vertical-align: middle;\n",
       "    }\n",
       "\n",
       "    .dataframe tbody tr th {\n",
       "        vertical-align: top;\n",
       "    }\n",
       "\n",
       "    .dataframe thead th {\n",
       "        text-align: right;\n",
       "    }\n",
       "</style>\n",
       "<table border=\"1\" class=\"dataframe\">\n",
       "  <thead>\n",
       "    <tr style=\"text-align: right;\">\n",
       "      <th></th>\n",
       "      <th>fare_amount</th>\n",
       "      <th>pickup_datetime</th>\n",
       "      <th>pickup_longitude</th>\n",
       "      <th>pickup_latitude</th>\n",
       "      <th>dropoff_longitude</th>\n",
       "      <th>dropoff_latitude</th>\n",
       "      <th>passenger_count</th>\n",
       "      <th>year</th>\n",
       "      <th>month</th>\n",
       "      <th>date</th>\n",
       "    </tr>\n",
       "  </thead>\n",
       "  <tbody>\n",
       "    <tr>\n",
       "      <th>0</th>\n",
       "      <td>4.5</td>\n",
       "      <td>2009-06-15 17:26:21</td>\n",
       "      <td>-73.844311</td>\n",
       "      <td>40.721319</td>\n",
       "      <td>-73.841610</td>\n",
       "      <td>40.712278</td>\n",
       "      <td>1.0</td>\n",
       "      <td>2009</td>\n",
       "      <td>6</td>\n",
       "      <td>15</td>\n",
       "    </tr>\n",
       "    <tr>\n",
       "      <th>1</th>\n",
       "      <td>16.9</td>\n",
       "      <td>2010-01-05 16:52:16</td>\n",
       "      <td>-74.016048</td>\n",
       "      <td>40.711303</td>\n",
       "      <td>-73.979268</td>\n",
       "      <td>40.782004</td>\n",
       "      <td>1.0</td>\n",
       "      <td>2010</td>\n",
       "      <td>1</td>\n",
       "      <td>5</td>\n",
       "    </tr>\n",
       "    <tr>\n",
       "      <th>2</th>\n",
       "      <td>5.7</td>\n",
       "      <td>2011-08-18 00:35:00</td>\n",
       "      <td>-73.982738</td>\n",
       "      <td>40.761270</td>\n",
       "      <td>-73.991242</td>\n",
       "      <td>40.750562</td>\n",
       "      <td>2.0</td>\n",
       "      <td>2011</td>\n",
       "      <td>8</td>\n",
       "      <td>18</td>\n",
       "    </tr>\n",
       "    <tr>\n",
       "      <th>3</th>\n",
       "      <td>7.7</td>\n",
       "      <td>2012-04-21 04:30:42</td>\n",
       "      <td>-73.987130</td>\n",
       "      <td>40.733143</td>\n",
       "      <td>-73.991567</td>\n",
       "      <td>40.758092</td>\n",
       "      <td>1.0</td>\n",
       "      <td>2012</td>\n",
       "      <td>4</td>\n",
       "      <td>21</td>\n",
       "    </tr>\n",
       "    <tr>\n",
       "      <th>4</th>\n",
       "      <td>5.3</td>\n",
       "      <td>2010-03-09 07:51:00</td>\n",
       "      <td>-73.968095</td>\n",
       "      <td>40.768008</td>\n",
       "      <td>-73.956655</td>\n",
       "      <td>40.783762</td>\n",
       "      <td>1.0</td>\n",
       "      <td>2010</td>\n",
       "      <td>3</td>\n",
       "      <td>9</td>\n",
       "    </tr>\n",
       "  </tbody>\n",
       "</table>\n",
       "</div>"
      ],
      "text/plain": [
       "   fare_amount     pickup_datetime  pickup_longitude  pickup_latitude  \\\n",
       "0          4.5 2009-06-15 17:26:21        -73.844311        40.721319   \n",
       "1         16.9 2010-01-05 16:52:16        -74.016048        40.711303   \n",
       "2          5.7 2011-08-18 00:35:00        -73.982738        40.761270   \n",
       "3          7.7 2012-04-21 04:30:42        -73.987130        40.733143   \n",
       "4          5.3 2010-03-09 07:51:00        -73.968095        40.768008   \n",
       "\n",
       "   dropoff_longitude  dropoff_latitude  passenger_count  year  month  date  \n",
       "0         -73.841610         40.712278              1.0  2009      6    15  \n",
       "1         -73.979268         40.782004              1.0  2010      1     5  \n",
       "2         -73.991242         40.750562              2.0  2011      8    18  \n",
       "3         -73.991567         40.758092              1.0  2012      4    21  \n",
       "4         -73.956655         40.783762              1.0  2010      3     9  "
      ]
     },
     "execution_count": 22,
     "metadata": {},
     "output_type": "execute_result"
    }
   ],
   "source": [
    "df.head()"
   ]
  },
  {
   "cell_type": "code",
   "execution_count": 23,
   "id": "0647d842-41ac-473a-a8b5-f1cd4ef17ec7",
   "metadata": {},
   "outputs": [],
   "source": [
    "df['day'] = pickup_dt.dayofweek"
   ]
  },
  {
   "cell_type": "code",
   "execution_count": 24,
   "id": "7c9e16af-bb08-476b-85f7-9b40160724c8",
   "metadata": {},
   "outputs": [
    {
     "data": {
      "text/html": [
       "<div>\n",
       "<style scoped>\n",
       "    .dataframe tbody tr th:only-of-type {\n",
       "        vertical-align: middle;\n",
       "    }\n",
       "\n",
       "    .dataframe tbody tr th {\n",
       "        vertical-align: top;\n",
       "    }\n",
       "\n",
       "    .dataframe thead th {\n",
       "        text-align: right;\n",
       "    }\n",
       "</style>\n",
       "<table border=\"1\" class=\"dataframe\">\n",
       "  <thead>\n",
       "    <tr style=\"text-align: right;\">\n",
       "      <th></th>\n",
       "      <th>fare_amount</th>\n",
       "      <th>pickup_datetime</th>\n",
       "      <th>pickup_longitude</th>\n",
       "      <th>pickup_latitude</th>\n",
       "      <th>dropoff_longitude</th>\n",
       "      <th>dropoff_latitude</th>\n",
       "      <th>passenger_count</th>\n",
       "      <th>year</th>\n",
       "      <th>month</th>\n",
       "      <th>date</th>\n",
       "      <th>day</th>\n",
       "    </tr>\n",
       "  </thead>\n",
       "  <tbody>\n",
       "    <tr>\n",
       "      <th>0</th>\n",
       "      <td>4.5</td>\n",
       "      <td>2009-06-15 17:26:21</td>\n",
       "      <td>-73.844311</td>\n",
       "      <td>40.721319</td>\n",
       "      <td>-73.841610</td>\n",
       "      <td>40.712278</td>\n",
       "      <td>1.0</td>\n",
       "      <td>2009</td>\n",
       "      <td>6</td>\n",
       "      <td>15</td>\n",
       "      <td>0</td>\n",
       "    </tr>\n",
       "    <tr>\n",
       "      <th>1</th>\n",
       "      <td>16.9</td>\n",
       "      <td>2010-01-05 16:52:16</td>\n",
       "      <td>-74.016048</td>\n",
       "      <td>40.711303</td>\n",
       "      <td>-73.979268</td>\n",
       "      <td>40.782004</td>\n",
       "      <td>1.0</td>\n",
       "      <td>2010</td>\n",
       "      <td>1</td>\n",
       "      <td>5</td>\n",
       "      <td>1</td>\n",
       "    </tr>\n",
       "    <tr>\n",
       "      <th>2</th>\n",
       "      <td>5.7</td>\n",
       "      <td>2011-08-18 00:35:00</td>\n",
       "      <td>-73.982738</td>\n",
       "      <td>40.761270</td>\n",
       "      <td>-73.991242</td>\n",
       "      <td>40.750562</td>\n",
       "      <td>2.0</td>\n",
       "      <td>2011</td>\n",
       "      <td>8</td>\n",
       "      <td>18</td>\n",
       "      <td>3</td>\n",
       "    </tr>\n",
       "    <tr>\n",
       "      <th>3</th>\n",
       "      <td>7.7</td>\n",
       "      <td>2012-04-21 04:30:42</td>\n",
       "      <td>-73.987130</td>\n",
       "      <td>40.733143</td>\n",
       "      <td>-73.991567</td>\n",
       "      <td>40.758092</td>\n",
       "      <td>1.0</td>\n",
       "      <td>2012</td>\n",
       "      <td>4</td>\n",
       "      <td>21</td>\n",
       "      <td>5</td>\n",
       "    </tr>\n",
       "    <tr>\n",
       "      <th>4</th>\n",
       "      <td>5.3</td>\n",
       "      <td>2010-03-09 07:51:00</td>\n",
       "      <td>-73.968095</td>\n",
       "      <td>40.768008</td>\n",
       "      <td>-73.956655</td>\n",
       "      <td>40.783762</td>\n",
       "      <td>1.0</td>\n",
       "      <td>2010</td>\n",
       "      <td>3</td>\n",
       "      <td>9</td>\n",
       "      <td>1</td>\n",
       "    </tr>\n",
       "  </tbody>\n",
       "</table>\n",
       "</div>"
      ],
      "text/plain": [
       "   fare_amount     pickup_datetime  pickup_longitude  pickup_latitude  \\\n",
       "0          4.5 2009-06-15 17:26:21        -73.844311        40.721319   \n",
       "1         16.9 2010-01-05 16:52:16        -74.016048        40.711303   \n",
       "2          5.7 2011-08-18 00:35:00        -73.982738        40.761270   \n",
       "3          7.7 2012-04-21 04:30:42        -73.987130        40.733143   \n",
       "4          5.3 2010-03-09 07:51:00        -73.968095        40.768008   \n",
       "\n",
       "   dropoff_longitude  dropoff_latitude  passenger_count  year  month  date  \\\n",
       "0         -73.841610         40.712278              1.0  2009      6    15   \n",
       "1         -73.979268         40.782004              1.0  2010      1     5   \n",
       "2         -73.991242         40.750562              2.0  2011      8    18   \n",
       "3         -73.991567         40.758092              1.0  2012      4    21   \n",
       "4         -73.956655         40.783762              1.0  2010      3     9   \n",
       "\n",
       "   day  \n",
       "0    0  \n",
       "1    1  \n",
       "2    3  \n",
       "3    5  \n",
       "4    1  "
      ]
     },
     "execution_count": 24,
     "metadata": {},
     "output_type": "execute_result"
    }
   ],
   "source": [
    "df.head()"
   ]
  },
  {
   "cell_type": "code",
   "execution_count": 25,
   "id": "e54cb9b9-2375-4348-bf47-11280eaac389",
   "metadata": {},
   "outputs": [],
   "source": [
    "def WeekEnd(x) :\n",
    "    if x > 4:\n",
    "        return 1\n",
    "    else:\n",
    "        return 0"
   ]
  },
  {
   "cell_type": "code",
   "execution_count": 26,
   "id": "8529b914-d312-4bb0-9adc-ab9676be24bf",
   "metadata": {},
   "outputs": [],
   "source": [
    "df['Weekend'] = df['day'].apply(WeekEnd)"
   ]
  },
  {
   "cell_type": "code",
   "execution_count": 27,
   "id": "034d555e-5091-4eb6-a174-27c8e3d0913c",
   "metadata": {},
   "outputs": [
    {
     "data": {
      "text/html": [
       "<div>\n",
       "<style scoped>\n",
       "    .dataframe tbody tr th:only-of-type {\n",
       "        vertical-align: middle;\n",
       "    }\n",
       "\n",
       "    .dataframe tbody tr th {\n",
       "        vertical-align: top;\n",
       "    }\n",
       "\n",
       "    .dataframe thead th {\n",
       "        text-align: right;\n",
       "    }\n",
       "</style>\n",
       "<table border=\"1\" class=\"dataframe\">\n",
       "  <thead>\n",
       "    <tr style=\"text-align: right;\">\n",
       "      <th></th>\n",
       "      <th>fare_amount</th>\n",
       "      <th>pickup_datetime</th>\n",
       "      <th>pickup_longitude</th>\n",
       "      <th>pickup_latitude</th>\n",
       "      <th>dropoff_longitude</th>\n",
       "      <th>dropoff_latitude</th>\n",
       "      <th>passenger_count</th>\n",
       "      <th>year</th>\n",
       "      <th>month</th>\n",
       "      <th>date</th>\n",
       "      <th>day</th>\n",
       "      <th>Weekend</th>\n",
       "    </tr>\n",
       "  </thead>\n",
       "  <tbody>\n",
       "    <tr>\n",
       "      <th>0</th>\n",
       "      <td>4.5</td>\n",
       "      <td>2009-06-15 17:26:21</td>\n",
       "      <td>-73.844311</td>\n",
       "      <td>40.721319</td>\n",
       "      <td>-73.841610</td>\n",
       "      <td>40.712278</td>\n",
       "      <td>1.0</td>\n",
       "      <td>2009</td>\n",
       "      <td>6</td>\n",
       "      <td>15</td>\n",
       "      <td>0</td>\n",
       "      <td>0</td>\n",
       "    </tr>\n",
       "    <tr>\n",
       "      <th>1</th>\n",
       "      <td>16.9</td>\n",
       "      <td>2010-01-05 16:52:16</td>\n",
       "      <td>-74.016048</td>\n",
       "      <td>40.711303</td>\n",
       "      <td>-73.979268</td>\n",
       "      <td>40.782004</td>\n",
       "      <td>1.0</td>\n",
       "      <td>2010</td>\n",
       "      <td>1</td>\n",
       "      <td>5</td>\n",
       "      <td>1</td>\n",
       "      <td>0</td>\n",
       "    </tr>\n",
       "    <tr>\n",
       "      <th>2</th>\n",
       "      <td>5.7</td>\n",
       "      <td>2011-08-18 00:35:00</td>\n",
       "      <td>-73.982738</td>\n",
       "      <td>40.761270</td>\n",
       "      <td>-73.991242</td>\n",
       "      <td>40.750562</td>\n",
       "      <td>2.0</td>\n",
       "      <td>2011</td>\n",
       "      <td>8</td>\n",
       "      <td>18</td>\n",
       "      <td>3</td>\n",
       "      <td>0</td>\n",
       "    </tr>\n",
       "    <tr>\n",
       "      <th>3</th>\n",
       "      <td>7.7</td>\n",
       "      <td>2012-04-21 04:30:42</td>\n",
       "      <td>-73.987130</td>\n",
       "      <td>40.733143</td>\n",
       "      <td>-73.991567</td>\n",
       "      <td>40.758092</td>\n",
       "      <td>1.0</td>\n",
       "      <td>2012</td>\n",
       "      <td>4</td>\n",
       "      <td>21</td>\n",
       "      <td>5</td>\n",
       "      <td>1</td>\n",
       "    </tr>\n",
       "    <tr>\n",
       "      <th>4</th>\n",
       "      <td>5.3</td>\n",
       "      <td>2010-03-09 07:51:00</td>\n",
       "      <td>-73.968095</td>\n",
       "      <td>40.768008</td>\n",
       "      <td>-73.956655</td>\n",
       "      <td>40.783762</td>\n",
       "      <td>1.0</td>\n",
       "      <td>2010</td>\n",
       "      <td>3</td>\n",
       "      <td>9</td>\n",
       "      <td>1</td>\n",
       "      <td>0</td>\n",
       "    </tr>\n",
       "  </tbody>\n",
       "</table>\n",
       "</div>"
      ],
      "text/plain": [
       "   fare_amount     pickup_datetime  pickup_longitude  pickup_latitude  \\\n",
       "0          4.5 2009-06-15 17:26:21        -73.844311        40.721319   \n",
       "1         16.9 2010-01-05 16:52:16        -74.016048        40.711303   \n",
       "2          5.7 2011-08-18 00:35:00        -73.982738        40.761270   \n",
       "3          7.7 2012-04-21 04:30:42        -73.987130        40.733143   \n",
       "4          5.3 2010-03-09 07:51:00        -73.968095        40.768008   \n",
       "\n",
       "   dropoff_longitude  dropoff_latitude  passenger_count  year  month  date  \\\n",
       "0         -73.841610         40.712278              1.0  2009      6    15   \n",
       "1         -73.979268         40.782004              1.0  2010      1     5   \n",
       "2         -73.991242         40.750562              2.0  2011      8    18   \n",
       "3         -73.991567         40.758092              1.0  2012      4    21   \n",
       "4         -73.956655         40.783762              1.0  2010      3     9   \n",
       "\n",
       "   day  Weekend  \n",
       "0    0        0  \n",
       "1    1        0  \n",
       "2    3        0  \n",
       "3    5        1  \n",
       "4    1        0  "
      ]
     },
     "execution_count": 27,
     "metadata": {},
     "output_type": "execute_result"
    }
   ],
   "source": [
    "df.head()"
   ]
  },
  {
   "cell_type": "code",
   "execution_count": 28,
   "id": "c7996b16-bc8f-4744-a087-00e2ecc04744",
   "metadata": {},
   "outputs": [],
   "source": [
    "df.drop(columns= 'pickup_datetime', inplace = True)"
   ]
  },
  {
   "cell_type": "code",
   "execution_count": 29,
   "id": "2613f38f-7834-4a0d-ad8c-7f6666ce5da6",
   "metadata": {},
   "outputs": [
    {
     "data": {
      "text/html": [
       "<div>\n",
       "<style scoped>\n",
       "    .dataframe tbody tr th:only-of-type {\n",
       "        vertical-align: middle;\n",
       "    }\n",
       "\n",
       "    .dataframe tbody tr th {\n",
       "        vertical-align: top;\n",
       "    }\n",
       "\n",
       "    .dataframe thead th {\n",
       "        text-align: right;\n",
       "    }\n",
       "</style>\n",
       "<table border=\"1\" class=\"dataframe\">\n",
       "  <thead>\n",
       "    <tr style=\"text-align: right;\">\n",
       "      <th></th>\n",
       "      <th>fare_amount</th>\n",
       "      <th>pickup_longitude</th>\n",
       "      <th>pickup_latitude</th>\n",
       "      <th>dropoff_longitude</th>\n",
       "      <th>dropoff_latitude</th>\n",
       "      <th>passenger_count</th>\n",
       "      <th>year</th>\n",
       "      <th>month</th>\n",
       "      <th>date</th>\n",
       "      <th>day</th>\n",
       "      <th>Weekend</th>\n",
       "    </tr>\n",
       "  </thead>\n",
       "  <tbody>\n",
       "    <tr>\n",
       "      <th>0</th>\n",
       "      <td>4.5</td>\n",
       "      <td>-73.844311</td>\n",
       "      <td>40.721319</td>\n",
       "      <td>-73.841610</td>\n",
       "      <td>40.712278</td>\n",
       "      <td>1.0</td>\n",
       "      <td>2009</td>\n",
       "      <td>6</td>\n",
       "      <td>15</td>\n",
       "      <td>0</td>\n",
       "      <td>0</td>\n",
       "    </tr>\n",
       "    <tr>\n",
       "      <th>1</th>\n",
       "      <td>16.9</td>\n",
       "      <td>-74.016048</td>\n",
       "      <td>40.711303</td>\n",
       "      <td>-73.979268</td>\n",
       "      <td>40.782004</td>\n",
       "      <td>1.0</td>\n",
       "      <td>2010</td>\n",
       "      <td>1</td>\n",
       "      <td>5</td>\n",
       "      <td>1</td>\n",
       "      <td>0</td>\n",
       "    </tr>\n",
       "    <tr>\n",
       "      <th>2</th>\n",
       "      <td>5.7</td>\n",
       "      <td>-73.982738</td>\n",
       "      <td>40.761270</td>\n",
       "      <td>-73.991242</td>\n",
       "      <td>40.750562</td>\n",
       "      <td>2.0</td>\n",
       "      <td>2011</td>\n",
       "      <td>8</td>\n",
       "      <td>18</td>\n",
       "      <td>3</td>\n",
       "      <td>0</td>\n",
       "    </tr>\n",
       "    <tr>\n",
       "      <th>3</th>\n",
       "      <td>7.7</td>\n",
       "      <td>-73.987130</td>\n",
       "      <td>40.733143</td>\n",
       "      <td>-73.991567</td>\n",
       "      <td>40.758092</td>\n",
       "      <td>1.0</td>\n",
       "      <td>2012</td>\n",
       "      <td>4</td>\n",
       "      <td>21</td>\n",
       "      <td>5</td>\n",
       "      <td>1</td>\n",
       "    </tr>\n",
       "    <tr>\n",
       "      <th>4</th>\n",
       "      <td>5.3</td>\n",
       "      <td>-73.968095</td>\n",
       "      <td>40.768008</td>\n",
       "      <td>-73.956655</td>\n",
       "      <td>40.783762</td>\n",
       "      <td>1.0</td>\n",
       "      <td>2010</td>\n",
       "      <td>3</td>\n",
       "      <td>9</td>\n",
       "      <td>1</td>\n",
       "      <td>0</td>\n",
       "    </tr>\n",
       "  </tbody>\n",
       "</table>\n",
       "</div>"
      ],
      "text/plain": [
       "   fare_amount  pickup_longitude  pickup_latitude  dropoff_longitude  \\\n",
       "0          4.5        -73.844311        40.721319         -73.841610   \n",
       "1         16.9        -74.016048        40.711303         -73.979268   \n",
       "2          5.7        -73.982738        40.761270         -73.991242   \n",
       "3          7.7        -73.987130        40.733143         -73.991567   \n",
       "4          5.3        -73.968095        40.768008         -73.956655   \n",
       "\n",
       "   dropoff_latitude  passenger_count  year  month  date  day  Weekend  \n",
       "0         40.712278              1.0  2009      6    15    0        0  \n",
       "1         40.782004              1.0  2010      1     5    1        0  \n",
       "2         40.750562              2.0  2011      8    18    3        0  \n",
       "3         40.758092              1.0  2012      4    21    5        1  \n",
       "4         40.783762              1.0  2010      3     9    1        0  "
      ]
     },
     "execution_count": 29,
     "metadata": {},
     "output_type": "execute_result"
    }
   ],
   "source": [
    "df.head()"
   ]
  },
  {
   "cell_type": "code",
   "execution_count": 30,
   "id": "38e2078b-b9eb-426f-9e73-2c0596e580ee",
   "metadata": {},
   "outputs": [],
   "source": [
    "### Membuat Jarak - Simplify\n",
    "df['distance'] = abs((df['pickup_longitude'] - df['dropoff_longitude']) + (df['pickup_latitude'] - df['dropoff_latitude']))"
   ]
  },
  {
   "cell_type": "code",
   "execution_count": 31,
   "id": "3b732c4b-4ce1-4d3b-9dbc-d08051bd0846",
   "metadata": {},
   "outputs": [
    {
     "data": {
      "text/html": [
       "<div>\n",
       "<style scoped>\n",
       "    .dataframe tbody tr th:only-of-type {\n",
       "        vertical-align: middle;\n",
       "    }\n",
       "\n",
       "    .dataframe tbody tr th {\n",
       "        vertical-align: top;\n",
       "    }\n",
       "\n",
       "    .dataframe thead th {\n",
       "        text-align: right;\n",
       "    }\n",
       "</style>\n",
       "<table border=\"1\" class=\"dataframe\">\n",
       "  <thead>\n",
       "    <tr style=\"text-align: right;\">\n",
       "      <th></th>\n",
       "      <th>fare_amount</th>\n",
       "      <th>pickup_longitude</th>\n",
       "      <th>pickup_latitude</th>\n",
       "      <th>dropoff_longitude</th>\n",
       "      <th>dropoff_latitude</th>\n",
       "      <th>passenger_count</th>\n",
       "      <th>year</th>\n",
       "      <th>month</th>\n",
       "      <th>date</th>\n",
       "      <th>day</th>\n",
       "      <th>Weekend</th>\n",
       "      <th>distance</th>\n",
       "    </tr>\n",
       "  </thead>\n",
       "  <tbody>\n",
       "    <tr>\n",
       "      <th>0</th>\n",
       "      <td>4.5</td>\n",
       "      <td>-73.844311</td>\n",
       "      <td>40.721319</td>\n",
       "      <td>-73.841610</td>\n",
       "      <td>40.712278</td>\n",
       "      <td>1.0</td>\n",
       "      <td>2009</td>\n",
       "      <td>6</td>\n",
       "      <td>15</td>\n",
       "      <td>0</td>\n",
       "      <td>0</td>\n",
       "      <td>0.006340</td>\n",
       "    </tr>\n",
       "    <tr>\n",
       "      <th>1</th>\n",
       "      <td>16.9</td>\n",
       "      <td>-74.016048</td>\n",
       "      <td>40.711303</td>\n",
       "      <td>-73.979268</td>\n",
       "      <td>40.782004</td>\n",
       "      <td>1.0</td>\n",
       "      <td>2010</td>\n",
       "      <td>1</td>\n",
       "      <td>5</td>\n",
       "      <td>1</td>\n",
       "      <td>0</td>\n",
       "      <td>0.107481</td>\n",
       "    </tr>\n",
       "    <tr>\n",
       "      <th>2</th>\n",
       "      <td>5.7</td>\n",
       "      <td>-73.982738</td>\n",
       "      <td>40.761270</td>\n",
       "      <td>-73.991242</td>\n",
       "      <td>40.750562</td>\n",
       "      <td>2.0</td>\n",
       "      <td>2011</td>\n",
       "      <td>8</td>\n",
       "      <td>18</td>\n",
       "      <td>3</td>\n",
       "      <td>0</td>\n",
       "      <td>0.019212</td>\n",
       "    </tr>\n",
       "    <tr>\n",
       "      <th>3</th>\n",
       "      <td>7.7</td>\n",
       "      <td>-73.987130</td>\n",
       "      <td>40.733143</td>\n",
       "      <td>-73.991567</td>\n",
       "      <td>40.758092</td>\n",
       "      <td>1.0</td>\n",
       "      <td>2012</td>\n",
       "      <td>4</td>\n",
       "      <td>21</td>\n",
       "      <td>5</td>\n",
       "      <td>1</td>\n",
       "      <td>0.020512</td>\n",
       "    </tr>\n",
       "    <tr>\n",
       "      <th>4</th>\n",
       "      <td>5.3</td>\n",
       "      <td>-73.968095</td>\n",
       "      <td>40.768008</td>\n",
       "      <td>-73.956655</td>\n",
       "      <td>40.783762</td>\n",
       "      <td>1.0</td>\n",
       "      <td>2010</td>\n",
       "      <td>3</td>\n",
       "      <td>9</td>\n",
       "      <td>1</td>\n",
       "      <td>0</td>\n",
       "      <td>0.027194</td>\n",
       "    </tr>\n",
       "  </tbody>\n",
       "</table>\n",
       "</div>"
      ],
      "text/plain": [
       "   fare_amount  pickup_longitude  pickup_latitude  dropoff_longitude  \\\n",
       "0          4.5        -73.844311        40.721319         -73.841610   \n",
       "1         16.9        -74.016048        40.711303         -73.979268   \n",
       "2          5.7        -73.982738        40.761270         -73.991242   \n",
       "3          7.7        -73.987130        40.733143         -73.991567   \n",
       "4          5.3        -73.968095        40.768008         -73.956655   \n",
       "\n",
       "   dropoff_latitude  passenger_count  year  month  date  day  Weekend  \\\n",
       "0         40.712278              1.0  2009      6    15    0        0   \n",
       "1         40.782004              1.0  2010      1     5    1        0   \n",
       "2         40.750562              2.0  2011      8    18    3        0   \n",
       "3         40.758092              1.0  2012      4    21    5        1   \n",
       "4         40.783762              1.0  2010      3     9    1        0   \n",
       "\n",
       "   distance  \n",
       "0  0.006340  \n",
       "1  0.107481  \n",
       "2  0.019212  \n",
       "3  0.020512  \n",
       "4  0.027194  "
      ]
     },
     "execution_count": 31,
     "metadata": {},
     "output_type": "execute_result"
    }
   ],
   "source": [
    "df.head()"
   ]
  },
  {
   "cell_type": "code",
   "execution_count": 32,
   "id": "ec479e3c-812e-4dc4-9d2d-48d96a1b92ba",
   "metadata": {},
   "outputs": [],
   "source": [
    "df.drop(columns=['pickup_longitude', 'pickup_latitude', 'dropoff_latitude', 'dropoff_longitude'], inplace = True)"
   ]
  },
  {
   "cell_type": "code",
   "execution_count": 33,
   "id": "0f7a2f8d-9837-4f57-b167-002b25203436",
   "metadata": {},
   "outputs": [
    {
     "data": {
      "text/html": [
       "<div>\n",
       "<style scoped>\n",
       "    .dataframe tbody tr th:only-of-type {\n",
       "        vertical-align: middle;\n",
       "    }\n",
       "\n",
       "    .dataframe tbody tr th {\n",
       "        vertical-align: top;\n",
       "    }\n",
       "\n",
       "    .dataframe thead th {\n",
       "        text-align: right;\n",
       "    }\n",
       "</style>\n",
       "<table border=\"1\" class=\"dataframe\">\n",
       "  <thead>\n",
       "    <tr style=\"text-align: right;\">\n",
       "      <th></th>\n",
       "      <th>fare_amount</th>\n",
       "      <th>passenger_count</th>\n",
       "      <th>year</th>\n",
       "      <th>month</th>\n",
       "      <th>date</th>\n",
       "      <th>day</th>\n",
       "      <th>Weekend</th>\n",
       "      <th>distance</th>\n",
       "    </tr>\n",
       "  </thead>\n",
       "  <tbody>\n",
       "    <tr>\n",
       "      <th>0</th>\n",
       "      <td>4.5</td>\n",
       "      <td>1.0</td>\n",
       "      <td>2009</td>\n",
       "      <td>6</td>\n",
       "      <td>15</td>\n",
       "      <td>0</td>\n",
       "      <td>0</td>\n",
       "      <td>0.006340</td>\n",
       "    </tr>\n",
       "    <tr>\n",
       "      <th>1</th>\n",
       "      <td>16.9</td>\n",
       "      <td>1.0</td>\n",
       "      <td>2010</td>\n",
       "      <td>1</td>\n",
       "      <td>5</td>\n",
       "      <td>1</td>\n",
       "      <td>0</td>\n",
       "      <td>0.107481</td>\n",
       "    </tr>\n",
       "    <tr>\n",
       "      <th>2</th>\n",
       "      <td>5.7</td>\n",
       "      <td>2.0</td>\n",
       "      <td>2011</td>\n",
       "      <td>8</td>\n",
       "      <td>18</td>\n",
       "      <td>3</td>\n",
       "      <td>0</td>\n",
       "      <td>0.019212</td>\n",
       "    </tr>\n",
       "    <tr>\n",
       "      <th>3</th>\n",
       "      <td>7.7</td>\n",
       "      <td>1.0</td>\n",
       "      <td>2012</td>\n",
       "      <td>4</td>\n",
       "      <td>21</td>\n",
       "      <td>5</td>\n",
       "      <td>1</td>\n",
       "      <td>0.020512</td>\n",
       "    </tr>\n",
       "    <tr>\n",
       "      <th>4</th>\n",
       "      <td>5.3</td>\n",
       "      <td>1.0</td>\n",
       "      <td>2010</td>\n",
       "      <td>3</td>\n",
       "      <td>9</td>\n",
       "      <td>1</td>\n",
       "      <td>0</td>\n",
       "      <td>0.027194</td>\n",
       "    </tr>\n",
       "  </tbody>\n",
       "</table>\n",
       "</div>"
      ],
      "text/plain": [
       "   fare_amount  passenger_count  year  month  date  day  Weekend  distance\n",
       "0          4.5              1.0  2009      6    15    0        0  0.006340\n",
       "1         16.9              1.0  2010      1     5    1        0  0.107481\n",
       "2          5.7              2.0  2011      8    18    3        0  0.019212\n",
       "3          7.7              1.0  2012      4    21    5        1  0.020512\n",
       "4          5.3              1.0  2010      3     9    1        0  0.027194"
      ]
     },
     "execution_count": 33,
     "metadata": {},
     "output_type": "execute_result"
    }
   ],
   "source": [
    "df.head()"
   ]
  },
  {
   "cell_type": "code",
   "execution_count": 34,
   "id": "01c0363d-1535-4314-a9a9-eaf9e358858e",
   "metadata": {},
   "outputs": [],
   "source": [
    "### Machine Learning Modelling"
   ]
  },
  {
   "cell_type": "code",
   "execution_count": 35,
   "id": "61eb6e26-e9ac-48fa-8715-67edbcc3ea09",
   "metadata": {},
   "outputs": [],
   "source": [
    "### Splitting Data"
   ]
  },
  {
   "cell_type": "code",
   "execution_count": 36,
   "id": "bf9cab5a-31d5-4f22-a382-36041c036acb",
   "metadata": {},
   "outputs": [],
   "source": [
    "X = df.drop(columns='fare_amount')\n",
    "y = df['fare_amount']"
   ]
  },
  {
   "cell_type": "code",
   "execution_count": 37,
   "id": "1d831b67-0686-4f0c-bfcc-ebd74e749b7b",
   "metadata": {},
   "outputs": [],
   "source": [
    "X_train, X_test, y_train, y_test = train_test_split(X,y, train_size = .80, random_state = 42)"
   ]
  },
  {
   "cell_type": "code",
   "execution_count": 38,
   "id": "fca2c7ea-fdc8-48e6-ad2f-d71e847a2dbb",
   "metadata": {},
   "outputs": [
    {
     "data": {
      "text/plain": [
       "(15134, 7)"
      ]
     },
     "execution_count": 38,
     "metadata": {},
     "output_type": "execute_result"
    }
   ],
   "source": [
    "X_train.shape"
   ]
  },
  {
   "cell_type": "code",
   "execution_count": 39,
   "id": "d444502c-a138-47f0-8100-8535510d3826",
   "metadata": {},
   "outputs": [
    {
     "data": {
      "text/plain": [
       "(3784, 7)"
      ]
     },
     "execution_count": 39,
     "metadata": {},
     "output_type": "execute_result"
    }
   ],
   "source": [
    "X_test.shape"
   ]
  },
  {
   "cell_type": "code",
   "execution_count": 40,
   "id": "b41a24dc-a6b2-4f28-a8bb-c412a7efb1f2",
   "metadata": {},
   "outputs": [
    {
     "data": {
      "text/html": [
       "<div>\n",
       "<style scoped>\n",
       "    .dataframe tbody tr th:only-of-type {\n",
       "        vertical-align: middle;\n",
       "    }\n",
       "\n",
       "    .dataframe tbody tr th {\n",
       "        vertical-align: top;\n",
       "    }\n",
       "\n",
       "    .dataframe thead th {\n",
       "        text-align: right;\n",
       "    }\n",
       "</style>\n",
       "<table border=\"1\" class=\"dataframe\">\n",
       "  <thead>\n",
       "    <tr style=\"text-align: right;\">\n",
       "      <th></th>\n",
       "      <th>passenger_count</th>\n",
       "      <th>year</th>\n",
       "      <th>month</th>\n",
       "      <th>date</th>\n",
       "      <th>day</th>\n",
       "      <th>Weekend</th>\n",
       "      <th>distance</th>\n",
       "    </tr>\n",
       "  </thead>\n",
       "  <tbody>\n",
       "    <tr>\n",
       "      <th>7539</th>\n",
       "      <td>1.0</td>\n",
       "      <td>2011</td>\n",
       "      <td>6</td>\n",
       "      <td>14</td>\n",
       "      <td>1</td>\n",
       "      <td>0</td>\n",
       "      <td>0.000000</td>\n",
       "    </tr>\n",
       "    <tr>\n",
       "      <th>578</th>\n",
       "      <td>3.0</td>\n",
       "      <td>2010</td>\n",
       "      <td>3</td>\n",
       "      <td>25</td>\n",
       "      <td>3</td>\n",
       "      <td>0</td>\n",
       "      <td>0.009293</td>\n",
       "    </tr>\n",
       "    <tr>\n",
       "      <th>8056</th>\n",
       "      <td>5.0</td>\n",
       "      <td>2010</td>\n",
       "      <td>4</td>\n",
       "      <td>12</td>\n",
       "      <td>0</td>\n",
       "      <td>0</td>\n",
       "      <td>0.048951</td>\n",
       "    </tr>\n",
       "    <tr>\n",
       "      <th>11761</th>\n",
       "      <td>1.0</td>\n",
       "      <td>2014</td>\n",
       "      <td>11</td>\n",
       "      <td>17</td>\n",
       "      <td>0</td>\n",
       "      <td>0</td>\n",
       "      <td>0.021735</td>\n",
       "    </tr>\n",
       "    <tr>\n",
       "      <th>15531</th>\n",
       "      <td>1.0</td>\n",
       "      <td>2012</td>\n",
       "      <td>12</td>\n",
       "      <td>29</td>\n",
       "      <td>5</td>\n",
       "      <td>1</td>\n",
       "      <td>0.010498</td>\n",
       "    </tr>\n",
       "  </tbody>\n",
       "</table>\n",
       "</div>"
      ],
      "text/plain": [
       "       passenger_count  year  month  date  day  Weekend  distance\n",
       "7539               1.0  2011      6    14    1        0  0.000000\n",
       "578                3.0  2010      3    25    3        0  0.009293\n",
       "8056               5.0  2010      4    12    0        0  0.048951\n",
       "11761              1.0  2014     11    17    0        0  0.021735\n",
       "15531              1.0  2012     12    29    5        1  0.010498"
      ]
     },
     "execution_count": 40,
     "metadata": {},
     "output_type": "execute_result"
    }
   ],
   "source": [
    "X_train.head()"
   ]
  },
  {
   "cell_type": "code",
   "execution_count": 41,
   "id": "1956c7e1-6edb-45d8-bdd0-af1536bdac45",
   "metadata": {},
   "outputs": [
    {
     "data": {
      "text/html": [
       "<div>\n",
       "<style scoped>\n",
       "    .dataframe tbody tr th:only-of-type {\n",
       "        vertical-align: middle;\n",
       "    }\n",
       "\n",
       "    .dataframe tbody tr th {\n",
       "        vertical-align: top;\n",
       "    }\n",
       "\n",
       "    .dataframe thead th {\n",
       "        text-align: right;\n",
       "    }\n",
       "</style>\n",
       "<table border=\"1\" class=\"dataframe\">\n",
       "  <thead>\n",
       "    <tr style=\"text-align: right;\">\n",
       "      <th></th>\n",
       "      <th>passenger_count</th>\n",
       "      <th>year</th>\n",
       "      <th>month</th>\n",
       "      <th>date</th>\n",
       "      <th>day</th>\n",
       "      <th>Weekend</th>\n",
       "      <th>distance</th>\n",
       "    </tr>\n",
       "  </thead>\n",
       "  <tbody>\n",
       "    <tr>\n",
       "      <th>12565</th>\n",
       "      <td>1.0</td>\n",
       "      <td>2012</td>\n",
       "      <td>6</td>\n",
       "      <td>15</td>\n",
       "      <td>4</td>\n",
       "      <td>0</td>\n",
       "      <td>0.034270</td>\n",
       "    </tr>\n",
       "    <tr>\n",
       "      <th>5282</th>\n",
       "      <td>1.0</td>\n",
       "      <td>2012</td>\n",
       "      <td>1</td>\n",
       "      <td>19</td>\n",
       "      <td>3</td>\n",
       "      <td>0</td>\n",
       "      <td>0.013032</td>\n",
       "    </tr>\n",
       "    <tr>\n",
       "      <th>4525</th>\n",
       "      <td>2.0</td>\n",
       "      <td>2010</td>\n",
       "      <td>11</td>\n",
       "      <td>16</td>\n",
       "      <td>1</td>\n",
       "      <td>0</td>\n",
       "      <td>0.058549</td>\n",
       "    </tr>\n",
       "    <tr>\n",
       "      <th>17370</th>\n",
       "      <td>2.0</td>\n",
       "      <td>2011</td>\n",
       "      <td>2</td>\n",
       "      <td>9</td>\n",
       "      <td>2</td>\n",
       "      <td>0</td>\n",
       "      <td>0.069345</td>\n",
       "    </tr>\n",
       "    <tr>\n",
       "      <th>9239</th>\n",
       "      <td>1.0</td>\n",
       "      <td>2013</td>\n",
       "      <td>10</td>\n",
       "      <td>7</td>\n",
       "      <td>0</td>\n",
       "      <td>0</td>\n",
       "      <td>0.013675</td>\n",
       "    </tr>\n",
       "  </tbody>\n",
       "</table>\n",
       "</div>"
      ],
      "text/plain": [
       "       passenger_count  year  month  date  day  Weekend  distance\n",
       "12565              1.0  2012      6    15    4        0  0.034270\n",
       "5282               1.0  2012      1    19    3        0  0.013032\n",
       "4525               2.0  2010     11    16    1        0  0.058549\n",
       "17370              2.0  2011      2     9    2        0  0.069345\n",
       "9239               1.0  2013     10     7    0        0  0.013675"
      ]
     },
     "execution_count": 41,
     "metadata": {},
     "output_type": "execute_result"
    }
   ],
   "source": [
    "X_test.head()"
   ]
  },
  {
   "cell_type": "code",
   "execution_count": 42,
   "id": "1ddaafe1-1335-4b73-b5ca-940afa1787c4",
   "metadata": {},
   "outputs": [],
   "source": [
    "## Base Model"
   ]
  },
  {
   "cell_type": "code",
   "execution_count": 43,
   "id": "dcb0696b-c1b6-4498-b321-b064eadcac7c",
   "metadata": {},
   "outputs": [],
   "source": [
    "Model_1 = LinearRegression(fit_intercept = False)"
   ]
  },
  {
   "cell_type": "code",
   "execution_count": 44,
   "id": "50712aef-f4b5-4d43-8b44-82bbb278a57f",
   "metadata": {},
   "outputs": [
    {
     "data": {
      "text/plain": [
       "LinearRegression(fit_intercept=False)"
      ]
     },
     "execution_count": 44,
     "metadata": {},
     "output_type": "execute_result"
    }
   ],
   "source": [
    "Model_1.fit(X_train, y_train)"
   ]
  },
  {
   "cell_type": "code",
   "execution_count": 45,
   "id": "b107d044-ed86-4701-98ae-12eb969732f9",
   "metadata": {},
   "outputs": [],
   "source": [
    "### Evaluation"
   ]
  },
  {
   "cell_type": "code",
   "execution_count": 46,
   "id": "35ff95d7-1b59-450b-ba44-3cac7f307050",
   "metadata": {},
   "outputs": [],
   "source": [
    "## Training"
   ]
  },
  {
   "cell_type": "code",
   "execution_count": 47,
   "id": "82a21e12-4542-4824-b055-f6afc389ebe6",
   "metadata": {},
   "outputs": [],
   "source": [
    "y_pred_tr = Model_1.predict(X_train)"
   ]
  },
  {
   "cell_type": "code",
   "execution_count": 48,
   "id": "6d4fb9ef-1f21-4b61-ae6d-d5e1d2264899",
   "metadata": {},
   "outputs": [
    {
     "data": {
      "text/plain": [
       "0.001311695445722183"
      ]
     },
     "execution_count": 48,
     "metadata": {},
     "output_type": "execute_result"
    }
   ],
   "source": [
    "r2_score(y_train, y_pred_tr)"
   ]
  },
  {
   "cell_type": "code",
   "execution_count": 49,
   "id": "92bccbc0-ab40-4a54-965e-8fa37effedc8",
   "metadata": {},
   "outputs": [
    {
     "data": {
      "text/plain": [
       "6.015018423617373"
      ]
     },
     "execution_count": 49,
     "metadata": {},
     "output_type": "execute_result"
    }
   ],
   "source": [
    "mean_absolute_error(y_train, y_pred_tr)"
   ]
  },
  {
   "cell_type": "code",
   "execution_count": 50,
   "id": "208270b9-e9a5-4814-b8ae-d1bcd943b799",
   "metadata": {},
   "outputs": [
    {
     "data": {
      "text/plain": [
       "11.32310757235361"
      ]
     },
     "execution_count": 50,
     "metadata": {},
     "output_type": "execute_result"
    }
   ],
   "source": [
    "y_train.mean()"
   ]
  },
  {
   "cell_type": "code",
   "execution_count": 51,
   "id": "8ea338ba-7f2e-4176-b60f-244150b01616",
   "metadata": {},
   "outputs": [
    {
     "data": {
      "text/plain": [
       "9.623413033305088"
      ]
     },
     "execution_count": 51,
     "metadata": {},
     "output_type": "execute_result"
    }
   ],
   "source": [
    "np.sqrt(mean_squared_error(y_train, y_pred_tr))"
   ]
  },
  {
   "cell_type": "code",
   "execution_count": 52,
   "id": "9113aa17-8b45-44a5-9121-10ac67670d45",
   "metadata": {},
   "outputs": [],
   "source": [
    "## Testing"
   ]
  },
  {
   "cell_type": "code",
   "execution_count": 53,
   "id": "38d01347-3b11-4ae7-b349-92d25caf1b62",
   "metadata": {},
   "outputs": [],
   "source": [
    "y_pred_ts = Model_1.predict(X_test)"
   ]
  },
  {
   "cell_type": "code",
   "execution_count": 54,
   "id": "1bec1d7d-b975-43b4-bb25-8934df3471d3",
   "metadata": {},
   "outputs": [
    {
     "data": {
      "text/plain": [
       "0.0027377484669763863"
      ]
     },
     "execution_count": 54,
     "metadata": {},
     "output_type": "execute_result"
    }
   ],
   "source": [
    "r2_score(y_test, y_pred_ts)"
   ]
  },
  {
   "cell_type": "code",
   "execution_count": 55,
   "id": "b1e72c15-1d6e-4ddd-9534-b9b2b11e0355",
   "metadata": {},
   "outputs": [
    {
     "data": {
      "text/plain": [
       "5.806390978693578"
      ]
     },
     "execution_count": 55,
     "metadata": {},
     "output_type": "execute_result"
    }
   ],
   "source": [
    "mean_absolute_error(y_test, y_pred_ts)"
   ]
  },
  {
   "cell_type": "code",
   "execution_count": 56,
   "id": "567951d1-723a-498c-b704-9307a6dee4ca",
   "metadata": {},
   "outputs": [
    {
     "data": {
      "text/plain": [
       "11.153694503171263"
      ]
     },
     "execution_count": 56,
     "metadata": {},
     "output_type": "execute_result"
    }
   ],
   "source": [
    "y_test.mean()"
   ]
  },
  {
   "cell_type": "code",
   "execution_count": 57,
   "id": "d56a6584-9b94-48ff-ab94-102459ba5326",
   "metadata": {},
   "outputs": [
    {
     "data": {
      "text/plain": [
       "84.96535334312448"
      ]
     },
     "execution_count": 57,
     "metadata": {},
     "output_type": "execute_result"
    }
   ],
   "source": [
    "mean_squared_error(y_test, y_pred_ts)"
   ]
  },
  {
   "cell_type": "code",
   "execution_count": 58,
   "id": "b6e049ad-b7b3-41df-93ce-dbc9ba2b704a",
   "metadata": {},
   "outputs": [
    {
     "data": {
      "text/plain": [
       "9.217665286997812"
      ]
     },
     "execution_count": 58,
     "metadata": {},
     "output_type": "execute_result"
    }
   ],
   "source": [
    "np.sqrt(mean_squared_error(y_test, y_pred_ts))"
   ]
  },
  {
   "cell_type": "code",
   "execution_count": 59,
   "id": "62f618ba-7c94-49c2-b476-2bb3a6a20a94",
   "metadata": {},
   "outputs": [],
   "source": [
    "def Eva_Matrix(Model, X, y_true):\n",
    "    y_pred = Model.predict(X)\n",
    "    R2 = r2_score(y_true, y_pred)\n",
    "    MAE = mean_absolute_error(y_true, y_pred)\n",
    "    MSE = mean_squared_error(y_true, y_pred)\n",
    "    RMSE = np.sqrt(MSE)\n",
    "    return R2, MAE, MSE, RMSE"
   ]
  },
  {
   "cell_type": "code",
   "execution_count": 60,
   "id": "d935a695-dba3-404e-8981-3d6e34228e01",
   "metadata": {
    "tags": []
   },
   "outputs": [],
   "source": [
    "r2_train, MAE_train, MSE_train, RMSE_train = Eva_Matrix(Model_1, X_train, y_train)"
   ]
  },
  {
   "cell_type": "code",
   "execution_count": 61,
   "id": "a2830dd5-bca3-4d4d-89ad-6b3e9a3e0edc",
   "metadata": {
    "tags": []
   },
   "outputs": [
    {
     "data": {
      "text/plain": [
       "0.001311695445722183"
      ]
     },
     "execution_count": 61,
     "metadata": {},
     "output_type": "execute_result"
    }
   ],
   "source": [
    "r2_train"
   ]
  },
  {
   "cell_type": "code",
   "execution_count": 62,
   "id": "990ab578-5c3f-4fc8-acd8-dd0d7d8ffa56",
   "metadata": {
    "tags": []
   },
   "outputs": [],
   "source": [
    "r2_test, MAE_test, MSE_test, RMSE_test = Eva_Matrix(Model_1, X_test, y_test)"
   ]
  },
  {
   "cell_type": "code",
   "execution_count": 63,
   "id": "be0ae3a2-da9e-4791-ac77-1e69be23c481",
   "metadata": {},
   "outputs": [
    {
     "data": {
      "text/plain": [
       "0.0027377484669763863"
      ]
     },
     "execution_count": 63,
     "metadata": {},
     "output_type": "execute_result"
    }
   ],
   "source": [
    "r2_test"
   ]
  },
  {
   "cell_type": "code",
   "execution_count": 64,
   "id": "946e72d3-4eb7-4f22-a037-38950e45996e",
   "metadata": {},
   "outputs": [],
   "source": [
    "data = {\n",
    "    \"Training\" : [r2_train, MAE_train, MSE_train, RMSE_train],\n",
    "    \"Testing\" : [r2_test, MAE_test, MSE_test, RMSE_test]\n",
    "}"
   ]
  },
  {
   "cell_type": "code",
   "execution_count": 65,
   "id": "97d0071d-5eae-47bd-875e-81ed22b48791",
   "metadata": {},
   "outputs": [
    {
     "data": {
      "text/html": [
       "<div>\n",
       "<style scoped>\n",
       "    .dataframe tbody tr th:only-of-type {\n",
       "        vertical-align: middle;\n",
       "    }\n",
       "\n",
       "    .dataframe tbody tr th {\n",
       "        vertical-align: top;\n",
       "    }\n",
       "\n",
       "    .dataframe thead th {\n",
       "        text-align: right;\n",
       "    }\n",
       "</style>\n",
       "<table border=\"1\" class=\"dataframe\">\n",
       "  <thead>\n",
       "    <tr style=\"text-align: right;\">\n",
       "      <th></th>\n",
       "      <th>Training</th>\n",
       "      <th>Testing</th>\n",
       "    </tr>\n",
       "  </thead>\n",
       "  <tbody>\n",
       "    <tr>\n",
       "      <th>R2</th>\n",
       "      <td>0.001312</td>\n",
       "      <td>0.002738</td>\n",
       "    </tr>\n",
       "    <tr>\n",
       "      <th>MAE</th>\n",
       "      <td>6.015018</td>\n",
       "      <td>5.806391</td>\n",
       "    </tr>\n",
       "    <tr>\n",
       "      <th>MSE</th>\n",
       "      <td>92.610078</td>\n",
       "      <td>84.965353</td>\n",
       "    </tr>\n",
       "    <tr>\n",
       "      <th>RMSE</th>\n",
       "      <td>9.623413</td>\n",
       "      <td>9.217665</td>\n",
       "    </tr>\n",
       "  </tbody>\n",
       "</table>\n",
       "</div>"
      ],
      "text/plain": [
       "       Training    Testing\n",
       "R2     0.001312   0.002738\n",
       "MAE    6.015018   5.806391\n",
       "MSE   92.610078  84.965353\n",
       "RMSE   9.623413   9.217665"
      ]
     },
     "execution_count": 65,
     "metadata": {},
     "output_type": "execute_result"
    }
   ],
   "source": [
    "pd.DataFrame(data = data, index = ['R2', 'MAE', 'MSE', 'RMSE'])"
   ]
  },
  {
   "cell_type": "code",
   "execution_count": 66,
   "id": "a9e8fba3-e0e0-4bc5-9302-77f0ab1b8926",
   "metadata": {},
   "outputs": [],
   "source": [
    "def Eva_Matrix_DF(model, X_train, X_test, y_train, y_test, Nama):\n",
    "    Model = model.fit(X_train, y_train)\n",
    "    y_pred_tr = Model.predict(X_train)\n",
    "    R2_tr = r2_score(y_train, y_pred_tr)\n",
    "    MAE_tr = mean_absolute_error(y_train, y_pred_tr)\n",
    "    MSE_tr = mean_squared_error(y_train, y_pred_tr)\n",
    "    RMSE_tr = np.sqrt(MSE_tr)\n",
    "    y_pred_ts = Model.predict(X_test)\n",
    "    R2_ts = r2_score(y_test, y_pred_ts)\n",
    "    MAE_ts = mean_absolute_error(y_test, y_pred_ts)\n",
    "    MSE_ts = mean_squared_error(y_test, y_pred_ts)\n",
    "    RMSE_ts = np.sqrt(MSE_ts)\n",
    "    data = {\n",
    "    \"Training \" + Nama : [R2_tr, MAE_tr, MSE_tr, RMSE_tr],\n",
    "    \"Testing \" + Nama: [R2_ts, MAE_ts, MSE_ts, RMSE_ts]}\n",
    "    df = pd.DataFrame(data = data, index = ['R2', 'MAE', 'MSE', 'RMSE'])\n",
    "    return df"
   ]
  },
  {
   "cell_type": "markdown",
   "id": "1711ada2-c417-448d-aa6f-485db6c10b5b",
   "metadata": {},
   "source": [
    "### Optimize 3"
   ]
  },
  {
   "cell_type": "code",
   "execution_count": 67,
   "id": "b9ad3e0c-eae6-492a-97ac-864ca566c06c",
   "metadata": {},
   "outputs": [],
   "source": [
    "df_LinReg = Eva_Matrix_DF(LinearRegression(), X_train, X_test, y_train, y_test, \"LinReg\")"
   ]
  },
  {
   "cell_type": "code",
   "execution_count": 68,
   "id": "ff662c70-50d9-45cc-9fcb-4c36abdb2287",
   "metadata": {},
   "outputs": [
    {
     "data": {
      "text/html": [
       "<div>\n",
       "<style scoped>\n",
       "    .dataframe tbody tr th:only-of-type {\n",
       "        vertical-align: middle;\n",
       "    }\n",
       "\n",
       "    .dataframe tbody tr th {\n",
       "        vertical-align: top;\n",
       "    }\n",
       "\n",
       "    .dataframe thead th {\n",
       "        text-align: right;\n",
       "    }\n",
       "</style>\n",
       "<table border=\"1\" class=\"dataframe\">\n",
       "  <thead>\n",
       "    <tr style=\"text-align: right;\">\n",
       "      <th></th>\n",
       "      <th>Training LinReg</th>\n",
       "      <th>Testing LinReg</th>\n",
       "    </tr>\n",
       "  </thead>\n",
       "  <tbody>\n",
       "    <tr>\n",
       "      <th>R2</th>\n",
       "      <td>0.015828</td>\n",
       "      <td>0.014460</td>\n",
       "    </tr>\n",
       "    <tr>\n",
       "      <th>MAE</th>\n",
       "      <td>5.944604</td>\n",
       "      <td>5.754850</td>\n",
       "    </tr>\n",
       "    <tr>\n",
       "      <th>MSE</th>\n",
       "      <td>91.263949</td>\n",
       "      <td>83.966595</td>\n",
       "    </tr>\n",
       "    <tr>\n",
       "      <th>RMSE</th>\n",
       "      <td>9.553217</td>\n",
       "      <td>9.163329</td>\n",
       "    </tr>\n",
       "  </tbody>\n",
       "</table>\n",
       "</div>"
      ],
      "text/plain": [
       "      Training LinReg  Testing LinReg\n",
       "R2           0.015828        0.014460\n",
       "MAE          5.944604        5.754850\n",
       "MSE         91.263949       83.966595\n",
       "RMSE         9.553217        9.163329"
      ]
     },
     "execution_count": 68,
     "metadata": {},
     "output_type": "execute_result"
    }
   ],
   "source": [
    "df_LinReg"
   ]
  },
  {
   "cell_type": "code",
   "execution_count": 69,
   "id": "4f7ad69f-c942-491d-a3dc-e3e439fba5a6",
   "metadata": {},
   "outputs": [],
   "source": [
    "Model_2 = Lasso()"
   ]
  },
  {
   "cell_type": "code",
   "execution_count": 70,
   "id": "a486eae9-c5c3-4171-ad68-45f462a90cbe",
   "metadata": {},
   "outputs": [
    {
     "data": {
      "text/plain": [
       "Lasso()"
      ]
     },
     "execution_count": 70,
     "metadata": {},
     "output_type": "execute_result"
    }
   ],
   "source": [
    "Model_2.fit(X_train, y_train)"
   ]
  },
  {
   "cell_type": "code",
   "execution_count": 71,
   "id": "933c2c92-02b0-467b-b54d-7247787f6aab",
   "metadata": {},
   "outputs": [],
   "source": [
    "df_Lasso = Eva_Matrix_DF(Lasso(), X_train, X_test, y_train, y_test, \"Lasso\")"
   ]
  },
  {
   "cell_type": "code",
   "execution_count": 72,
   "id": "be0da68b-8a79-49dd-a730-b40f1c8fff2e",
   "metadata": {},
   "outputs": [
    {
     "data": {
      "text/html": [
       "<div>\n",
       "<style scoped>\n",
       "    .dataframe tbody tr th:only-of-type {\n",
       "        vertical-align: middle;\n",
       "    }\n",
       "\n",
       "    .dataframe tbody tr th {\n",
       "        vertical-align: top;\n",
       "    }\n",
       "\n",
       "    .dataframe thead th {\n",
       "        text-align: right;\n",
       "    }\n",
       "</style>\n",
       "<table border=\"1\" class=\"dataframe\">\n",
       "  <thead>\n",
       "    <tr style=\"text-align: right;\">\n",
       "      <th></th>\n",
       "      <th>Training Lasso</th>\n",
       "      <th>Testing Lasso</th>\n",
       "    </tr>\n",
       "  </thead>\n",
       "  <tbody>\n",
       "    <tr>\n",
       "      <th>R2</th>\n",
       "      <td>0.011036</td>\n",
       "      <td>0.009815</td>\n",
       "    </tr>\n",
       "    <tr>\n",
       "      <th>MAE</th>\n",
       "      <td>5.968452</td>\n",
       "      <td>5.762308</td>\n",
       "    </tr>\n",
       "    <tr>\n",
       "      <th>MSE</th>\n",
       "      <td>91.708313</td>\n",
       "      <td>84.362417</td>\n",
       "    </tr>\n",
       "    <tr>\n",
       "      <th>RMSE</th>\n",
       "      <td>9.576446</td>\n",
       "      <td>9.184902</td>\n",
       "    </tr>\n",
       "  </tbody>\n",
       "</table>\n",
       "</div>"
      ],
      "text/plain": [
       "      Training Lasso  Testing Lasso\n",
       "R2          0.011036       0.009815\n",
       "MAE         5.968452       5.762308\n",
       "MSE        91.708313      84.362417\n",
       "RMSE        9.576446       9.184902"
      ]
     },
     "execution_count": 72,
     "metadata": {},
     "output_type": "execute_result"
    }
   ],
   "source": [
    "df_Lasso"
   ]
  },
  {
   "cell_type": "code",
   "execution_count": 73,
   "id": "7b5ad801-2cd6-47ae-a257-62a1c4137fa2",
   "metadata": {},
   "outputs": [],
   "source": [
    "Model_3 = Ridge()"
   ]
  },
  {
   "cell_type": "code",
   "execution_count": 74,
   "id": "84615d2c-e1da-47eb-ab4a-8703d2f1b35f",
   "metadata": {},
   "outputs": [
    {
     "data": {
      "text/plain": [
       "Ridge()"
      ]
     },
     "execution_count": 74,
     "metadata": {},
     "output_type": "execute_result"
    }
   ],
   "source": [
    "Model_3.fit(X_train, y_train)"
   ]
  },
  {
   "cell_type": "code",
   "execution_count": 75,
   "id": "a1c909d6-0923-4b1d-987f-b9c7f78ea635",
   "metadata": {},
   "outputs": [],
   "source": [
    "df_Ridge = Eva_Matrix_DF(Ridge(), X_train, X_test, y_train, y_test, \"Ridge\")"
   ]
  },
  {
   "cell_type": "code",
   "execution_count": 76,
   "id": "0e6c1641-0b65-4070-9282-8a37090816e4",
   "metadata": {},
   "outputs": [
    {
     "data": {
      "text/html": [
       "<div>\n",
       "<style scoped>\n",
       "    .dataframe tbody tr th:only-of-type {\n",
       "        vertical-align: middle;\n",
       "    }\n",
       "\n",
       "    .dataframe tbody tr th {\n",
       "        vertical-align: top;\n",
       "    }\n",
       "\n",
       "    .dataframe thead th {\n",
       "        text-align: right;\n",
       "    }\n",
       "</style>\n",
       "<table border=\"1\" class=\"dataframe\">\n",
       "  <thead>\n",
       "    <tr style=\"text-align: right;\">\n",
       "      <th></th>\n",
       "      <th>Training Ridge</th>\n",
       "      <th>Testing Ridge</th>\n",
       "    </tr>\n",
       "  </thead>\n",
       "  <tbody>\n",
       "    <tr>\n",
       "      <th>R2</th>\n",
       "      <td>0.015828</td>\n",
       "      <td>0.014461</td>\n",
       "    </tr>\n",
       "    <tr>\n",
       "      <th>MAE</th>\n",
       "      <td>5.944604</td>\n",
       "      <td>5.754848</td>\n",
       "    </tr>\n",
       "    <tr>\n",
       "      <th>MSE</th>\n",
       "      <td>91.263949</td>\n",
       "      <td>83.966578</td>\n",
       "    </tr>\n",
       "    <tr>\n",
       "      <th>RMSE</th>\n",
       "      <td>9.553217</td>\n",
       "      <td>9.163328</td>\n",
       "    </tr>\n",
       "  </tbody>\n",
       "</table>\n",
       "</div>"
      ],
      "text/plain": [
       "      Training Ridge  Testing Ridge\n",
       "R2          0.015828       0.014461\n",
       "MAE         5.944604       5.754848\n",
       "MSE        91.263949      83.966578\n",
       "RMSE        9.553217       9.163328"
      ]
     },
     "execution_count": 76,
     "metadata": {},
     "output_type": "execute_result"
    }
   ],
   "source": [
    "df_Ridge"
   ]
  },
  {
   "cell_type": "code",
   "execution_count": 77,
   "id": "91722dba-c056-4015-9e8e-c711358ec441",
   "metadata": {},
   "outputs": [],
   "source": [
    "Model_4 = ElasticNet()"
   ]
  },
  {
   "cell_type": "code",
   "execution_count": 78,
   "id": "8e0f3a92-2657-42eb-9d0f-b55e9fd9122f",
   "metadata": {},
   "outputs": [
    {
     "data": {
      "text/plain": [
       "ElasticNet()"
      ]
     },
     "execution_count": 78,
     "metadata": {},
     "output_type": "execute_result"
    }
   ],
   "source": [
    "Model_4.fit(X_train, y_train)"
   ]
  },
  {
   "cell_type": "code",
   "execution_count": 79,
   "id": "24b734b2-2572-415c-ab58-70e605d55057",
   "metadata": {},
   "outputs": [],
   "source": [
    "df_ElasticNet = Eva_Matrix_DF(ElasticNet(), X_train, X_test, y_train, y_test, \"ElasticNet\")"
   ]
  },
  {
   "cell_type": "code",
   "execution_count": 80,
   "id": "eff9fa03-d521-4fca-a206-26f6729bb313",
   "metadata": {},
   "outputs": [
    {
     "data": {
      "text/html": [
       "<div>\n",
       "<style scoped>\n",
       "    .dataframe tbody tr th:only-of-type {\n",
       "        vertical-align: middle;\n",
       "    }\n",
       "\n",
       "    .dataframe tbody tr th {\n",
       "        vertical-align: top;\n",
       "    }\n",
       "\n",
       "    .dataframe thead th {\n",
       "        text-align: right;\n",
       "    }\n",
       "</style>\n",
       "<table border=\"1\" class=\"dataframe\">\n",
       "  <thead>\n",
       "    <tr style=\"text-align: right;\">\n",
       "      <th></th>\n",
       "      <th>Training ElasticNet</th>\n",
       "      <th>Testing ElasticNet</th>\n",
       "    </tr>\n",
       "  </thead>\n",
       "  <tbody>\n",
       "    <tr>\n",
       "      <th>R2</th>\n",
       "      <td>0.013552</td>\n",
       "      <td>0.012881</td>\n",
       "    </tr>\n",
       "    <tr>\n",
       "      <th>MAE</th>\n",
       "      <td>5.956093</td>\n",
       "      <td>5.754456</td>\n",
       "    </tr>\n",
       "    <tr>\n",
       "      <th>MSE</th>\n",
       "      <td>91.474975</td>\n",
       "      <td>84.101157</td>\n",
       "    </tr>\n",
       "    <tr>\n",
       "      <th>RMSE</th>\n",
       "      <td>9.564255</td>\n",
       "      <td>9.170668</td>\n",
       "    </tr>\n",
       "  </tbody>\n",
       "</table>\n",
       "</div>"
      ],
      "text/plain": [
       "      Training ElasticNet  Testing ElasticNet\n",
       "R2               0.013552            0.012881\n",
       "MAE              5.956093            5.754456\n",
       "MSE             91.474975           84.101157\n",
       "RMSE             9.564255            9.170668"
      ]
     },
     "execution_count": 80,
     "metadata": {},
     "output_type": "execute_result"
    }
   ],
   "source": [
    "df_ElasticNet"
   ]
  },
  {
   "cell_type": "code",
   "execution_count": 81,
   "id": "385de05d-466e-4e7b-95ea-fedbe97415bf",
   "metadata": {},
   "outputs": [
    {
     "data": {
      "text/html": [
       "<div>\n",
       "<style scoped>\n",
       "    .dataframe tbody tr th:only-of-type {\n",
       "        vertical-align: middle;\n",
       "    }\n",
       "\n",
       "    .dataframe tbody tr th {\n",
       "        vertical-align: top;\n",
       "    }\n",
       "\n",
       "    .dataframe thead th {\n",
       "        text-align: right;\n",
       "    }\n",
       "</style>\n",
       "<table border=\"1\" class=\"dataframe\">\n",
       "  <thead>\n",
       "    <tr style=\"text-align: right;\">\n",
       "      <th></th>\n",
       "      <th>Training LinReg</th>\n",
       "      <th>Testing LinReg</th>\n",
       "      <th>Training Ridge</th>\n",
       "      <th>Testing Ridge</th>\n",
       "      <th>Training Lasso</th>\n",
       "      <th>Testing Lasso</th>\n",
       "      <th>Training ElasticNet</th>\n",
       "      <th>Testing ElasticNet</th>\n",
       "    </tr>\n",
       "  </thead>\n",
       "  <tbody>\n",
       "    <tr>\n",
       "      <th>R2</th>\n",
       "      <td>0.015828</td>\n",
       "      <td>0.014460</td>\n",
       "      <td>0.015828</td>\n",
       "      <td>0.014461</td>\n",
       "      <td>0.011036</td>\n",
       "      <td>0.009815</td>\n",
       "      <td>0.013552</td>\n",
       "      <td>0.012881</td>\n",
       "    </tr>\n",
       "    <tr>\n",
       "      <th>MAE</th>\n",
       "      <td>5.944604</td>\n",
       "      <td>5.754850</td>\n",
       "      <td>5.944604</td>\n",
       "      <td>5.754848</td>\n",
       "      <td>5.968452</td>\n",
       "      <td>5.762308</td>\n",
       "      <td>5.956093</td>\n",
       "      <td>5.754456</td>\n",
       "    </tr>\n",
       "    <tr>\n",
       "      <th>MSE</th>\n",
       "      <td>91.263949</td>\n",
       "      <td>83.966595</td>\n",
       "      <td>91.263949</td>\n",
       "      <td>83.966578</td>\n",
       "      <td>91.708313</td>\n",
       "      <td>84.362417</td>\n",
       "      <td>91.474975</td>\n",
       "      <td>84.101157</td>\n",
       "    </tr>\n",
       "    <tr>\n",
       "      <th>RMSE</th>\n",
       "      <td>9.553217</td>\n",
       "      <td>9.163329</td>\n",
       "      <td>9.553217</td>\n",
       "      <td>9.163328</td>\n",
       "      <td>9.576446</td>\n",
       "      <td>9.184902</td>\n",
       "      <td>9.564255</td>\n",
       "      <td>9.170668</td>\n",
       "    </tr>\n",
       "  </tbody>\n",
       "</table>\n",
       "</div>"
      ],
      "text/plain": [
       "      Training LinReg  Testing LinReg  Training Ridge  Testing Ridge  \\\n",
       "R2           0.015828        0.014460        0.015828       0.014461   \n",
       "MAE          5.944604        5.754850        5.944604       5.754848   \n",
       "MSE         91.263949       83.966595       91.263949      83.966578   \n",
       "RMSE         9.553217        9.163329        9.553217       9.163328   \n",
       "\n",
       "      Training Lasso  Testing Lasso  Training ElasticNet  Testing ElasticNet  \n",
       "R2          0.011036       0.009815             0.013552            0.012881  \n",
       "MAE         5.968452       5.762308             5.956093            5.754456  \n",
       "MSE        91.708313      84.362417            91.474975           84.101157  \n",
       "RMSE        9.576446       9.184902             9.564255            9.170668  "
      ]
     },
     "execution_count": 81,
     "metadata": {},
     "output_type": "execute_result"
    }
   ],
   "source": [
    "pd.concat([df_LinReg, df_Ridge, df_Lasso, df_ElasticNet], axis = 1)"
   ]
  },
  {
   "cell_type": "markdown",
   "id": "f7736f79-34a9-4a18-8954-d659dc42433e",
   "metadata": {},
   "source": [
    "### Optimize 2"
   ]
  },
  {
   "cell_type": "markdown",
   "id": "4ab2c7f5-9c4b-4972-b8ae-d99c6e0fb95d",
   "metadata": {},
   "source": [
    "- Using Feature Engineering (Polynomial - Polynomial Transformer)"
   ]
  },
  {
   "cell_type": "code",
   "execution_count": 82,
   "id": "811a1d93-3e2c-46b4-ad9b-d44e2a333be7",
   "metadata": {},
   "outputs": [
    {
     "data": {
      "text/html": [
       "<div>\n",
       "<style scoped>\n",
       "    .dataframe tbody tr th:only-of-type {\n",
       "        vertical-align: middle;\n",
       "    }\n",
       "\n",
       "    .dataframe tbody tr th {\n",
       "        vertical-align: top;\n",
       "    }\n",
       "\n",
       "    .dataframe thead th {\n",
       "        text-align: right;\n",
       "    }\n",
       "</style>\n",
       "<table border=\"1\" class=\"dataframe\">\n",
       "  <thead>\n",
       "    <tr style=\"text-align: right;\">\n",
       "      <th></th>\n",
       "      <th>passenger_count</th>\n",
       "      <th>year</th>\n",
       "      <th>month</th>\n",
       "      <th>date</th>\n",
       "      <th>day</th>\n",
       "      <th>Weekend</th>\n",
       "      <th>distance</th>\n",
       "    </tr>\n",
       "  </thead>\n",
       "  <tbody>\n",
       "    <tr>\n",
       "      <th>7539</th>\n",
       "      <td>1.0</td>\n",
       "      <td>2011</td>\n",
       "      <td>6</td>\n",
       "      <td>14</td>\n",
       "      <td>1</td>\n",
       "      <td>0</td>\n",
       "      <td>0.000000</td>\n",
       "    </tr>\n",
       "    <tr>\n",
       "      <th>578</th>\n",
       "      <td>3.0</td>\n",
       "      <td>2010</td>\n",
       "      <td>3</td>\n",
       "      <td>25</td>\n",
       "      <td>3</td>\n",
       "      <td>0</td>\n",
       "      <td>0.009293</td>\n",
       "    </tr>\n",
       "    <tr>\n",
       "      <th>8056</th>\n",
       "      <td>5.0</td>\n",
       "      <td>2010</td>\n",
       "      <td>4</td>\n",
       "      <td>12</td>\n",
       "      <td>0</td>\n",
       "      <td>0</td>\n",
       "      <td>0.048951</td>\n",
       "    </tr>\n",
       "    <tr>\n",
       "      <th>11761</th>\n",
       "      <td>1.0</td>\n",
       "      <td>2014</td>\n",
       "      <td>11</td>\n",
       "      <td>17</td>\n",
       "      <td>0</td>\n",
       "      <td>0</td>\n",
       "      <td>0.021735</td>\n",
       "    </tr>\n",
       "    <tr>\n",
       "      <th>15531</th>\n",
       "      <td>1.0</td>\n",
       "      <td>2012</td>\n",
       "      <td>12</td>\n",
       "      <td>29</td>\n",
       "      <td>5</td>\n",
       "      <td>1</td>\n",
       "      <td>0.010498</td>\n",
       "    </tr>\n",
       "  </tbody>\n",
       "</table>\n",
       "</div>"
      ],
      "text/plain": [
       "       passenger_count  year  month  date  day  Weekend  distance\n",
       "7539               1.0  2011      6    14    1        0  0.000000\n",
       "578                3.0  2010      3    25    3        0  0.009293\n",
       "8056               5.0  2010      4    12    0        0  0.048951\n",
       "11761              1.0  2014     11    17    0        0  0.021735\n",
       "15531              1.0  2012     12    29    5        1  0.010498"
      ]
     },
     "execution_count": 82,
     "metadata": {},
     "output_type": "execute_result"
    }
   ],
   "source": [
    "X_train.head()"
   ]
  },
  {
   "cell_type": "code",
   "execution_count": 83,
   "id": "78444654-2b3b-470d-8c50-2ec54a1c46e2",
   "metadata": {},
   "outputs": [],
   "source": [
    "## Feature Engineering"
   ]
  },
  {
   "cell_type": "code",
   "execution_count": 84,
   "id": "2a00f100-553f-47d5-be31-576e7be1d363",
   "metadata": {},
   "outputs": [],
   "source": [
    "poly = PolynomialFeatures(degree=3, include_bias=False)"
   ]
  },
  {
   "cell_type": "code",
   "execution_count": 85,
   "id": "fdd47405-72b5-44d4-b8f4-ccb4d65d881b",
   "metadata": {},
   "outputs": [],
   "source": [
    "#### Power Transformer"
   ]
  },
  {
   "cell_type": "code",
   "execution_count": 86,
   "id": "fc74e142-0414-4d63-b352-3234573f7cde",
   "metadata": {},
   "outputs": [],
   "source": [
    "yeo_pow = PowerTransformer(method='yeo-johnson')"
   ]
  },
  {
   "cell_type": "code",
   "execution_count": 87,
   "id": "df73a3fb-02ea-4d76-8729-d1fd26b777fe",
   "metadata": {},
   "outputs": [],
   "source": [
    "num_col = df[['passenger_count', 'distance', 'year']]"
   ]
  },
  {
   "cell_type": "code",
   "execution_count": 88,
   "id": "6546cfa5-5953-4f32-905e-cd0a90adf630",
   "metadata": {},
   "outputs": [],
   "source": [
    "num_poly = poly.fit_transform(num_col)"
   ]
  },
  {
   "cell_type": "code",
   "execution_count": 89,
   "id": "28ce0554-9b7a-48d8-be8a-1ee7874a0144",
   "metadata": {},
   "outputs": [],
   "source": [
    "num_pow = yeo_pow.fit_transform(num_poly)"
   ]
  },
  {
   "cell_type": "code",
   "execution_count": 90,
   "id": "26f6aac5-eb44-4d92-bba1-0a45bc8de19a",
   "metadata": {},
   "outputs": [],
   "source": [
    "df_pow = pd.DataFrame(num_pow)"
   ]
  },
  {
   "cell_type": "code",
   "execution_count": 91,
   "id": "06607aae-c8a8-40e6-a6f4-5e4b7aa686a7",
   "metadata": {},
   "outputs": [
    {
     "data": {
      "text/html": [
       "<div>\n",
       "<style scoped>\n",
       "    .dataframe tbody tr th:only-of-type {\n",
       "        vertical-align: middle;\n",
       "    }\n",
       "\n",
       "    .dataframe tbody tr th {\n",
       "        vertical-align: top;\n",
       "    }\n",
       "\n",
       "    .dataframe thead th {\n",
       "        text-align: right;\n",
       "    }\n",
       "</style>\n",
       "<table border=\"1\" class=\"dataframe\">\n",
       "  <thead>\n",
       "    <tr style=\"text-align: right;\">\n",
       "      <th></th>\n",
       "      <th>0</th>\n",
       "      <th>1</th>\n",
       "      <th>2</th>\n",
       "      <th>3</th>\n",
       "      <th>4</th>\n",
       "      <th>5</th>\n",
       "      <th>6</th>\n",
       "      <th>7</th>\n",
       "      <th>8</th>\n",
       "      <th>9</th>\n",
       "      <th>10</th>\n",
       "      <th>11</th>\n",
       "      <th>12</th>\n",
       "      <th>13</th>\n",
       "      <th>14</th>\n",
       "      <th>15</th>\n",
       "      <th>16</th>\n",
       "      <th>17</th>\n",
       "      <th>18</th>\n",
       "    </tr>\n",
       "  </thead>\n",
       "  <tbody>\n",
       "    <tr>\n",
       "      <th>0</th>\n",
       "      <td>-0.541042</td>\n",
       "      <td>-1.053236</td>\n",
       "      <td>1.0</td>\n",
       "      <td>-0.600677</td>\n",
       "      <td>-1.081936</td>\n",
       "      <td>-0.514831</td>\n",
       "      <td>-0.495979</td>\n",
       "      <td>-0.882452</td>\n",
       "      <td>-1.012162</td>\n",
       "      <td>-0.623728</td>\n",
       "      <td>-0.941961</td>\n",
       "      <td>-0.513990</td>\n",
       "      <td>-0.538653</td>\n",
       "      <td>-0.983503</td>\n",
       "      <td>-0.518532</td>\n",
       "      <td>-0.197541</td>\n",
       "      <td>-1.184868</td>\n",
       "      <td>-0.717414</td>\n",
       "      <td>-1.0</td>\n",
       "    </tr>\n",
       "    <tr>\n",
       "      <th>1</th>\n",
       "      <td>-0.541042</td>\n",
       "      <td>1.878846</td>\n",
       "      <td>1.0</td>\n",
       "      <td>-0.600677</td>\n",
       "      <td>1.278273</td>\n",
       "      <td>-0.514100</td>\n",
       "      <td>1.767568</td>\n",
       "      <td>1.333108</td>\n",
       "      <td>-1.007354</td>\n",
       "      <td>-0.623728</td>\n",
       "      <td>0.626139</td>\n",
       "      <td>-0.513574</td>\n",
       "      <td>1.257450</td>\n",
       "      <td>0.956526</td>\n",
       "      <td>-0.517123</td>\n",
       "      <td>0.506135</td>\n",
       "      <td>1.663864</td>\n",
       "      <td>1.212546</td>\n",
       "      <td>-1.0</td>\n",
       "    </tr>\n",
       "    <tr>\n",
       "      <th>2</th>\n",
       "      <td>0.914194</td>\n",
       "      <td>-0.377609</td>\n",
       "      <td>1.0</td>\n",
       "      <td>1.185880</td>\n",
       "      <td>0.003999</td>\n",
       "      <td>0.577272</td>\n",
       "      <td>-0.420281</td>\n",
       "      <td>-0.076170</td>\n",
       "      <td>-1.003146</td>\n",
       "      <td>1.262003</td>\n",
       "      <td>0.270707</td>\n",
       "      <td>0.646762</td>\n",
       "      <td>-0.409884</td>\n",
       "      <td>0.200604</td>\n",
       "      <td>0.557731</td>\n",
       "      <td>-0.193578</td>\n",
       "      <td>-0.382919</td>\n",
       "      <td>-0.073011</td>\n",
       "      <td>-1.0</td>\n",
       "    </tr>\n",
       "    <tr>\n",
       "      <th>3</th>\n",
       "      <td>-0.541042</td>\n",
       "      <td>-0.316858</td>\n",
       "      <td>1.0</td>\n",
       "      <td>-0.600677</td>\n",
       "      <td>-0.547070</td>\n",
       "      <td>-0.512641</td>\n",
       "      <td>-0.408462</td>\n",
       "      <td>-0.025478</td>\n",
       "      <td>-0.998939</td>\n",
       "      <td>-0.623728</td>\n",
       "      <td>-0.641979</td>\n",
       "      <td>-0.512742</td>\n",
       "      <td>-0.468091</td>\n",
       "      <td>-0.233355</td>\n",
       "      <td>-0.514305</td>\n",
       "      <td>-0.192686</td>\n",
       "      <td>-0.298870</td>\n",
       "      <td>-0.030280</td>\n",
       "      <td>-1.0</td>\n",
       "    </tr>\n",
       "    <tr>\n",
       "      <th>4</th>\n",
       "      <td>-0.541042</td>\n",
       "      <td>-0.023812</td>\n",
       "      <td>1.0</td>\n",
       "      <td>-0.600677</td>\n",
       "      <td>-0.326710</td>\n",
       "      <td>-0.514100</td>\n",
       "      <td>-0.335893</td>\n",
       "      <td>0.193551</td>\n",
       "      <td>-1.007354</td>\n",
       "      <td>-0.623728</td>\n",
       "      <td>-0.511800</td>\n",
       "      <td>-0.513574</td>\n",
       "      <td>-0.409645</td>\n",
       "      <td>-0.041577</td>\n",
       "      <td>-0.517123</td>\n",
       "      <td>-0.186034</td>\n",
       "      <td>0.091814</td>\n",
       "      <td>0.155342</td>\n",
       "      <td>-1.0</td>\n",
       "    </tr>\n",
       "  </tbody>\n",
       "</table>\n",
       "</div>"
      ],
      "text/plain": [
       "         0         1    2         3         4         5         6         7   \\\n",
       "0 -0.541042 -1.053236  1.0 -0.600677 -1.081936 -0.514831 -0.495979 -0.882452   \n",
       "1 -0.541042  1.878846  1.0 -0.600677  1.278273 -0.514100  1.767568  1.333108   \n",
       "2  0.914194 -0.377609  1.0  1.185880  0.003999  0.577272 -0.420281 -0.076170   \n",
       "3 -0.541042 -0.316858  1.0 -0.600677 -0.547070 -0.512641 -0.408462 -0.025478   \n",
       "4 -0.541042 -0.023812  1.0 -0.600677 -0.326710 -0.514100 -0.335893  0.193551   \n",
       "\n",
       "         8         9         10        11        12        13        14  \\\n",
       "0 -1.012162 -0.623728 -0.941961 -0.513990 -0.538653 -0.983503 -0.518532   \n",
       "1 -1.007354 -0.623728  0.626139 -0.513574  1.257450  0.956526 -0.517123   \n",
       "2 -1.003146  1.262003  0.270707  0.646762 -0.409884  0.200604  0.557731   \n",
       "3 -0.998939 -0.623728 -0.641979 -0.512742 -0.468091 -0.233355 -0.514305   \n",
       "4 -1.007354 -0.623728 -0.511800 -0.513574 -0.409645 -0.041577 -0.517123   \n",
       "\n",
       "         15        16        17   18  \n",
       "0 -0.197541 -1.184868 -0.717414 -1.0  \n",
       "1  0.506135  1.663864  1.212546 -1.0  \n",
       "2 -0.193578 -0.382919 -0.073011 -1.0  \n",
       "3 -0.192686 -0.298870 -0.030280 -1.0  \n",
       "4 -0.186034  0.091814  0.155342 -1.0  "
      ]
     },
     "execution_count": 91,
     "metadata": {},
     "output_type": "execute_result"
    }
   ],
   "source": [
    "df_pow.head()"
   ]
  },
  {
   "cell_type": "code",
   "execution_count": 92,
   "id": "c8665baa-51e4-4aad-a88e-b81067b1e5f8",
   "metadata": {},
   "outputs": [
    {
     "data": {
      "text/html": [
       "<div>\n",
       "<style scoped>\n",
       "    .dataframe tbody tr th:only-of-type {\n",
       "        vertical-align: middle;\n",
       "    }\n",
       "\n",
       "    .dataframe tbody tr th {\n",
       "        vertical-align: top;\n",
       "    }\n",
       "\n",
       "    .dataframe thead th {\n",
       "        text-align: right;\n",
       "    }\n",
       "</style>\n",
       "<table border=\"1\" class=\"dataframe\">\n",
       "  <thead>\n",
       "    <tr style=\"text-align: right;\">\n",
       "      <th></th>\n",
       "      <th>fare_amount</th>\n",
       "      <th>passenger_count</th>\n",
       "      <th>year</th>\n",
       "      <th>month</th>\n",
       "      <th>date</th>\n",
       "      <th>day</th>\n",
       "      <th>Weekend</th>\n",
       "      <th>distance</th>\n",
       "    </tr>\n",
       "  </thead>\n",
       "  <tbody>\n",
       "    <tr>\n",
       "      <th>0</th>\n",
       "      <td>4.5</td>\n",
       "      <td>1.0</td>\n",
       "      <td>2009</td>\n",
       "      <td>6</td>\n",
       "      <td>15</td>\n",
       "      <td>0</td>\n",
       "      <td>0</td>\n",
       "      <td>0.006340</td>\n",
       "    </tr>\n",
       "    <tr>\n",
       "      <th>1</th>\n",
       "      <td>16.9</td>\n",
       "      <td>1.0</td>\n",
       "      <td>2010</td>\n",
       "      <td>1</td>\n",
       "      <td>5</td>\n",
       "      <td>1</td>\n",
       "      <td>0</td>\n",
       "      <td>0.107481</td>\n",
       "    </tr>\n",
       "    <tr>\n",
       "      <th>2</th>\n",
       "      <td>5.7</td>\n",
       "      <td>2.0</td>\n",
       "      <td>2011</td>\n",
       "      <td>8</td>\n",
       "      <td>18</td>\n",
       "      <td>3</td>\n",
       "      <td>0</td>\n",
       "      <td>0.019212</td>\n",
       "    </tr>\n",
       "    <tr>\n",
       "      <th>3</th>\n",
       "      <td>7.7</td>\n",
       "      <td>1.0</td>\n",
       "      <td>2012</td>\n",
       "      <td>4</td>\n",
       "      <td>21</td>\n",
       "      <td>5</td>\n",
       "      <td>1</td>\n",
       "      <td>0.020512</td>\n",
       "    </tr>\n",
       "    <tr>\n",
       "      <th>4</th>\n",
       "      <td>5.3</td>\n",
       "      <td>1.0</td>\n",
       "      <td>2010</td>\n",
       "      <td>3</td>\n",
       "      <td>9</td>\n",
       "      <td>1</td>\n",
       "      <td>0</td>\n",
       "      <td>0.027194</td>\n",
       "    </tr>\n",
       "  </tbody>\n",
       "</table>\n",
       "</div>"
      ],
      "text/plain": [
       "   fare_amount  passenger_count  year  month  date  day  Weekend  distance\n",
       "0          4.5              1.0  2009      6    15    0        0  0.006340\n",
       "1         16.9              1.0  2010      1     5    1        0  0.107481\n",
       "2          5.7              2.0  2011      8    18    3        0  0.019212\n",
       "3          7.7              1.0  2012      4    21    5        1  0.020512\n",
       "4          5.3              1.0  2010      3     9    1        0  0.027194"
      ]
     },
     "execution_count": 92,
     "metadata": {},
     "output_type": "execute_result"
    }
   ],
   "source": [
    "df.head()"
   ]
  },
  {
   "cell_type": "code",
   "execution_count": 93,
   "id": "551618d0-ed28-44f8-a0be-737dcf0036ff",
   "metadata": {},
   "outputs": [
    {
     "data": {
      "text/html": [
       "<div>\n",
       "<style scoped>\n",
       "    .dataframe tbody tr th:only-of-type {\n",
       "        vertical-align: middle;\n",
       "    }\n",
       "\n",
       "    .dataframe tbody tr th {\n",
       "        vertical-align: top;\n",
       "    }\n",
       "\n",
       "    .dataframe thead th {\n",
       "        text-align: right;\n",
       "    }\n",
       "</style>\n",
       "<table border=\"1\" class=\"dataframe\">\n",
       "  <thead>\n",
       "    <tr style=\"text-align: right;\">\n",
       "      <th></th>\n",
       "      <th>fare_amount</th>\n",
       "      <th>month</th>\n",
       "      <th>date</th>\n",
       "      <th>day</th>\n",
       "      <th>Weekend</th>\n",
       "      <th>0</th>\n",
       "      <th>1</th>\n",
       "      <th>2</th>\n",
       "      <th>3</th>\n",
       "      <th>4</th>\n",
       "      <th>...</th>\n",
       "      <th>9</th>\n",
       "      <th>10</th>\n",
       "      <th>11</th>\n",
       "      <th>12</th>\n",
       "      <th>13</th>\n",
       "      <th>14</th>\n",
       "      <th>15</th>\n",
       "      <th>16</th>\n",
       "      <th>17</th>\n",
       "      <th>18</th>\n",
       "    </tr>\n",
       "  </thead>\n",
       "  <tbody>\n",
       "    <tr>\n",
       "      <th>0</th>\n",
       "      <td>4.5</td>\n",
       "      <td>6</td>\n",
       "      <td>15</td>\n",
       "      <td>0</td>\n",
       "      <td>0</td>\n",
       "      <td>-0.541042</td>\n",
       "      <td>-1.053236</td>\n",
       "      <td>1.0</td>\n",
       "      <td>-0.600677</td>\n",
       "      <td>-1.081936</td>\n",
       "      <td>...</td>\n",
       "      <td>-0.623728</td>\n",
       "      <td>-0.941961</td>\n",
       "      <td>-0.513990</td>\n",
       "      <td>-0.538653</td>\n",
       "      <td>-0.983503</td>\n",
       "      <td>-0.518532</td>\n",
       "      <td>-0.197541</td>\n",
       "      <td>-1.184868</td>\n",
       "      <td>-0.717414</td>\n",
       "      <td>-1.0</td>\n",
       "    </tr>\n",
       "    <tr>\n",
       "      <th>1</th>\n",
       "      <td>16.9</td>\n",
       "      <td>1</td>\n",
       "      <td>5</td>\n",
       "      <td>1</td>\n",
       "      <td>0</td>\n",
       "      <td>-0.541042</td>\n",
       "      <td>1.878846</td>\n",
       "      <td>1.0</td>\n",
       "      <td>-0.600677</td>\n",
       "      <td>1.278273</td>\n",
       "      <td>...</td>\n",
       "      <td>-0.623728</td>\n",
       "      <td>0.626139</td>\n",
       "      <td>-0.513574</td>\n",
       "      <td>1.257450</td>\n",
       "      <td>0.956526</td>\n",
       "      <td>-0.517123</td>\n",
       "      <td>0.506135</td>\n",
       "      <td>1.663864</td>\n",
       "      <td>1.212546</td>\n",
       "      <td>-1.0</td>\n",
       "    </tr>\n",
       "    <tr>\n",
       "      <th>2</th>\n",
       "      <td>5.7</td>\n",
       "      <td>8</td>\n",
       "      <td>18</td>\n",
       "      <td>3</td>\n",
       "      <td>0</td>\n",
       "      <td>0.914194</td>\n",
       "      <td>-0.377609</td>\n",
       "      <td>1.0</td>\n",
       "      <td>1.185880</td>\n",
       "      <td>0.003999</td>\n",
       "      <td>...</td>\n",
       "      <td>1.262003</td>\n",
       "      <td>0.270707</td>\n",
       "      <td>0.646762</td>\n",
       "      <td>-0.409884</td>\n",
       "      <td>0.200604</td>\n",
       "      <td>0.557731</td>\n",
       "      <td>-0.193578</td>\n",
       "      <td>-0.382919</td>\n",
       "      <td>-0.073011</td>\n",
       "      <td>-1.0</td>\n",
       "    </tr>\n",
       "    <tr>\n",
       "      <th>3</th>\n",
       "      <td>7.7</td>\n",
       "      <td>4</td>\n",
       "      <td>21</td>\n",
       "      <td>5</td>\n",
       "      <td>1</td>\n",
       "      <td>-0.541042</td>\n",
       "      <td>-0.316858</td>\n",
       "      <td>1.0</td>\n",
       "      <td>-0.600677</td>\n",
       "      <td>-0.547070</td>\n",
       "      <td>...</td>\n",
       "      <td>-0.623728</td>\n",
       "      <td>-0.641979</td>\n",
       "      <td>-0.512742</td>\n",
       "      <td>-0.468091</td>\n",
       "      <td>-0.233355</td>\n",
       "      <td>-0.514305</td>\n",
       "      <td>-0.192686</td>\n",
       "      <td>-0.298870</td>\n",
       "      <td>-0.030280</td>\n",
       "      <td>-1.0</td>\n",
       "    </tr>\n",
       "    <tr>\n",
       "      <th>4</th>\n",
       "      <td>5.3</td>\n",
       "      <td>3</td>\n",
       "      <td>9</td>\n",
       "      <td>1</td>\n",
       "      <td>0</td>\n",
       "      <td>-0.541042</td>\n",
       "      <td>-0.023812</td>\n",
       "      <td>1.0</td>\n",
       "      <td>-0.600677</td>\n",
       "      <td>-0.326710</td>\n",
       "      <td>...</td>\n",
       "      <td>-0.623728</td>\n",
       "      <td>-0.511800</td>\n",
       "      <td>-0.513574</td>\n",
       "      <td>-0.409645</td>\n",
       "      <td>-0.041577</td>\n",
       "      <td>-0.517123</td>\n",
       "      <td>-0.186034</td>\n",
       "      <td>0.091814</td>\n",
       "      <td>0.155342</td>\n",
       "      <td>-1.0</td>\n",
       "    </tr>\n",
       "  </tbody>\n",
       "</table>\n",
       "<p>5 rows × 24 columns</p>\n",
       "</div>"
      ],
      "text/plain": [
       "   fare_amount  month  date  day  Weekend         0         1    2         3  \\\n",
       "0          4.5      6    15    0        0 -0.541042 -1.053236  1.0 -0.600677   \n",
       "1         16.9      1     5    1        0 -0.541042  1.878846  1.0 -0.600677   \n",
       "2          5.7      8    18    3        0  0.914194 -0.377609  1.0  1.185880   \n",
       "3          7.7      4    21    5        1 -0.541042 -0.316858  1.0 -0.600677   \n",
       "4          5.3      3     9    1        0 -0.541042 -0.023812  1.0 -0.600677   \n",
       "\n",
       "          4  ...         9        10        11        12        13        14  \\\n",
       "0 -1.081936  ... -0.623728 -0.941961 -0.513990 -0.538653 -0.983503 -0.518532   \n",
       "1  1.278273  ... -0.623728  0.626139 -0.513574  1.257450  0.956526 -0.517123   \n",
       "2  0.003999  ...  1.262003  0.270707  0.646762 -0.409884  0.200604  0.557731   \n",
       "3 -0.547070  ... -0.623728 -0.641979 -0.512742 -0.468091 -0.233355 -0.514305   \n",
       "4 -0.326710  ... -0.623728 -0.511800 -0.513574 -0.409645 -0.041577 -0.517123   \n",
       "\n",
       "         15        16        17   18  \n",
       "0 -0.197541 -1.184868 -0.717414 -1.0  \n",
       "1  0.506135  1.663864  1.212546 -1.0  \n",
       "2 -0.193578 -0.382919 -0.073011 -1.0  \n",
       "3 -0.192686 -0.298870 -0.030280 -1.0  \n",
       "4 -0.186034  0.091814  0.155342 -1.0  \n",
       "\n",
       "[5 rows x 24 columns]"
      ]
     },
     "execution_count": 93,
     "metadata": {},
     "output_type": "execute_result"
    }
   ],
   "source": [
    "df_1 = pd.concat([df.drop(columns =['passenger_count', 'year', 'distance']), df_pow], axis = 1)\n",
    "df_1.head()"
   ]
  },
  {
   "cell_type": "code",
   "execution_count": 94,
   "id": "a1856665-57b5-4dda-978b-66a3cd7db546",
   "metadata": {},
   "outputs": [],
   "source": [
    "X_1 = df_1.drop(columns='fare_amount')\n",
    "y_1 = df_1['fare_amount']"
   ]
  },
  {
   "cell_type": "code",
   "execution_count": 95,
   "id": "b4392117-a6e8-4c7b-a5fd-7c31c57a6a00",
   "metadata": {},
   "outputs": [],
   "source": [
    "X_train_1, X_test_1, y_train_1, y_test_1 = train_test_split(X_1, y_1, train_size =0.80, random_state =42)"
   ]
  },
  {
   "cell_type": "code",
   "execution_count": 96,
   "id": "48425ce3-9d6d-49d8-a79d-bf08ca2b91e0",
   "metadata": {},
   "outputs": [
    {
     "data": {
      "text/html": [
       "<div>\n",
       "<style scoped>\n",
       "    .dataframe tbody tr th:only-of-type {\n",
       "        vertical-align: middle;\n",
       "    }\n",
       "\n",
       "    .dataframe tbody tr th {\n",
       "        vertical-align: top;\n",
       "    }\n",
       "\n",
       "    .dataframe thead th {\n",
       "        text-align: right;\n",
       "    }\n",
       "</style>\n",
       "<table border=\"1\" class=\"dataframe\">\n",
       "  <thead>\n",
       "    <tr style=\"text-align: right;\">\n",
       "      <th></th>\n",
       "      <th>Training LinReg2</th>\n",
       "      <th>Testing LinReg2</th>\n",
       "    </tr>\n",
       "  </thead>\n",
       "  <tbody>\n",
       "    <tr>\n",
       "      <th>R2</th>\n",
       "      <td>0.496653</td>\n",
       "      <td>0.520852</td>\n",
       "    </tr>\n",
       "    <tr>\n",
       "      <th>MAE</th>\n",
       "      <td>3.574548</td>\n",
       "      <td>3.469734</td>\n",
       "    </tr>\n",
       "    <tr>\n",
       "      <th>MSE</th>\n",
       "      <td>46.676191</td>\n",
       "      <td>40.822746</td>\n",
       "    </tr>\n",
       "    <tr>\n",
       "      <th>RMSE</th>\n",
       "      <td>6.831998</td>\n",
       "      <td>6.389268</td>\n",
       "    </tr>\n",
       "  </tbody>\n",
       "</table>\n",
       "</div>"
      ],
      "text/plain": [
       "      Training LinReg2  Testing LinReg2\n",
       "R2            0.496653         0.520852\n",
       "MAE           3.574548         3.469734\n",
       "MSE          46.676191        40.822746\n",
       "RMSE          6.831998         6.389268"
      ]
     },
     "execution_count": 96,
     "metadata": {},
     "output_type": "execute_result"
    }
   ],
   "source": [
    "df_LinReg2 = Eva_Matrix_DF(LinearRegression(fit_intercept=False), X_train_1, X_test_1, y_train_1, y_test_1, \"LinReg2\")\n",
    "df_LinReg2"
   ]
  },
  {
   "cell_type": "code",
   "execution_count": 97,
   "id": "355bd6f2-b6c0-4f2e-a0f4-03e0a0de3883",
   "metadata": {},
   "outputs": [],
   "source": [
    "### Tanya kapan dipakai scalling, kemudian recategorize"
   ]
  },
  {
   "cell_type": "markdown",
   "id": "ec06d7b7-f3cc-46a3-b266-64f8a0aa8bb6",
   "metadata": {},
   "source": [
    "Optimize 2\n",
    "- Using Freature Engineering + Others Algorithm"
   ]
  },
  {
   "cell_type": "code",
   "execution_count": 98,
   "id": "5f1e6082-f10c-45e1-811d-aa3415e308dc",
   "metadata": {},
   "outputs": [
    {
     "data": {
      "text/html": [
       "<div>\n",
       "<style scoped>\n",
       "    .dataframe tbody tr th:only-of-type {\n",
       "        vertical-align: middle;\n",
       "    }\n",
       "\n",
       "    .dataframe tbody tr th {\n",
       "        vertical-align: top;\n",
       "    }\n",
       "\n",
       "    .dataframe thead th {\n",
       "        text-align: right;\n",
       "    }\n",
       "</style>\n",
       "<table border=\"1\" class=\"dataframe\">\n",
       "  <thead>\n",
       "    <tr style=\"text-align: right;\">\n",
       "      <th></th>\n",
       "      <th>Training Ridge</th>\n",
       "      <th>Testing Ridge</th>\n",
       "    </tr>\n",
       "  </thead>\n",
       "  <tbody>\n",
       "    <tr>\n",
       "      <th>R2</th>\n",
       "      <td>0.493299</td>\n",
       "      <td>0.516700</td>\n",
       "    </tr>\n",
       "    <tr>\n",
       "      <th>MAE</th>\n",
       "      <td>3.570480</td>\n",
       "      <td>3.465919</td>\n",
       "    </tr>\n",
       "    <tr>\n",
       "      <th>MSE</th>\n",
       "      <td>46.987247</td>\n",
       "      <td>41.176502</td>\n",
       "    </tr>\n",
       "    <tr>\n",
       "      <th>RMSE</th>\n",
       "      <td>6.854724</td>\n",
       "      <td>6.416892</td>\n",
       "    </tr>\n",
       "  </tbody>\n",
       "</table>\n",
       "</div>"
      ],
      "text/plain": [
       "      Training Ridge  Testing Ridge\n",
       "R2          0.493299       0.516700\n",
       "MAE         3.570480       3.465919\n",
       "MSE        46.987247      41.176502\n",
       "RMSE        6.854724       6.416892"
      ]
     },
     "execution_count": 98,
     "metadata": {},
     "output_type": "execute_result"
    }
   ],
   "source": [
    "df_Ridge2 = Eva_Matrix_DF(Ridge(), X_train_1, X_test_1, y_train_1, y_test_1, \"Ridge\")\n",
    "df_Ridge2"
   ]
  },
  {
   "cell_type": "code",
   "execution_count": 99,
   "id": "891e0ebf-5024-47e2-abee-2964ebd96d05",
   "metadata": {},
   "outputs": [
    {
     "data": {
      "text/html": [
       "<div>\n",
       "<style scoped>\n",
       "    .dataframe tbody tr th:only-of-type {\n",
       "        vertical-align: middle;\n",
       "    }\n",
       "\n",
       "    .dataframe tbody tr th {\n",
       "        vertical-align: top;\n",
       "    }\n",
       "\n",
       "    .dataframe thead th {\n",
       "        text-align: right;\n",
       "    }\n",
       "</style>\n",
       "<table border=\"1\" class=\"dataframe\">\n",
       "  <thead>\n",
       "    <tr style=\"text-align: right;\">\n",
       "      <th></th>\n",
       "      <th>Training Lasso</th>\n",
       "      <th>Testing Lasso</th>\n",
       "    </tr>\n",
       "  </thead>\n",
       "  <tbody>\n",
       "    <tr>\n",
       "      <th>R2</th>\n",
       "      <td>0.416314</td>\n",
       "      <td>0.437808</td>\n",
       "    </tr>\n",
       "    <tr>\n",
       "      <th>MAE</th>\n",
       "      <td>3.896836</td>\n",
       "      <td>3.778208</td>\n",
       "    </tr>\n",
       "    <tr>\n",
       "      <th>MSE</th>\n",
       "      <td>54.126178</td>\n",
       "      <td>47.897958</td>\n",
       "    </tr>\n",
       "    <tr>\n",
       "      <th>RMSE</th>\n",
       "      <td>7.357050</td>\n",
       "      <td>6.920835</td>\n",
       "    </tr>\n",
       "  </tbody>\n",
       "</table>\n",
       "</div>"
      ],
      "text/plain": [
       "      Training Lasso  Testing Lasso\n",
       "R2          0.416314       0.437808\n",
       "MAE         3.896836       3.778208\n",
       "MSE        54.126178      47.897958\n",
       "RMSE        7.357050       6.920835"
      ]
     },
     "execution_count": 99,
     "metadata": {},
     "output_type": "execute_result"
    }
   ],
   "source": [
    "df_Lasso2 = Eva_Matrix_DF(Lasso(), X_train_1, X_test_1, y_train_1, y_test_1, \"Lasso\")\n",
    "df_Lasso2"
   ]
  },
  {
   "cell_type": "code",
   "execution_count": 100,
   "id": "668ea3a9-125a-4da0-8610-320e472885d9",
   "metadata": {},
   "outputs": [
    {
     "data": {
      "text/html": [
       "<div>\n",
       "<style scoped>\n",
       "    .dataframe tbody tr th:only-of-type {\n",
       "        vertical-align: middle;\n",
       "    }\n",
       "\n",
       "    .dataframe tbody tr th {\n",
       "        vertical-align: top;\n",
       "    }\n",
       "\n",
       "    .dataframe thead th {\n",
       "        text-align: right;\n",
       "    }\n",
       "</style>\n",
       "<table border=\"1\" class=\"dataframe\">\n",
       "  <thead>\n",
       "    <tr style=\"text-align: right;\">\n",
       "      <th></th>\n",
       "      <th>Training ElasticNet</th>\n",
       "      <th>Testing ElasticNet</th>\n",
       "    </tr>\n",
       "  </thead>\n",
       "  <tbody>\n",
       "    <tr>\n",
       "      <th>R2</th>\n",
       "      <td>0.407576</td>\n",
       "      <td>0.425610</td>\n",
       "    </tr>\n",
       "    <tr>\n",
       "      <th>MAE</th>\n",
       "      <td>3.968117</td>\n",
       "      <td>3.861302</td>\n",
       "    </tr>\n",
       "    <tr>\n",
       "      <th>MSE</th>\n",
       "      <td>54.936520</td>\n",
       "      <td>48.937248</td>\n",
       "    </tr>\n",
       "    <tr>\n",
       "      <th>RMSE</th>\n",
       "      <td>7.411917</td>\n",
       "      <td>6.995516</td>\n",
       "    </tr>\n",
       "  </tbody>\n",
       "</table>\n",
       "</div>"
      ],
      "text/plain": [
       "      Training ElasticNet  Testing ElasticNet\n",
       "R2               0.407576            0.425610\n",
       "MAE              3.968117            3.861302\n",
       "MSE             54.936520           48.937248\n",
       "RMSE             7.411917            6.995516"
      ]
     },
     "execution_count": 100,
     "metadata": {},
     "output_type": "execute_result"
    }
   ],
   "source": [
    "df_ElasticNet2 = Eva_Matrix_DF(ElasticNet(), X_train_1, X_test_1, y_train_1, y_test_1, \"ElasticNet\")\n",
    "df_ElasticNet2"
   ]
  },
  {
   "cell_type": "code",
   "execution_count": 101,
   "id": "71ed2073-1faa-4e02-856f-ae1f5fb1ea20",
   "metadata": {},
   "outputs": [
    {
     "data": {
      "text/html": [
       "<div>\n",
       "<style scoped>\n",
       "    .dataframe tbody tr th:only-of-type {\n",
       "        vertical-align: middle;\n",
       "    }\n",
       "\n",
       "    .dataframe tbody tr th {\n",
       "        vertical-align: top;\n",
       "    }\n",
       "\n",
       "    .dataframe thead th {\n",
       "        text-align: right;\n",
       "    }\n",
       "</style>\n",
       "<table border=\"1\" class=\"dataframe\">\n",
       "  <thead>\n",
       "    <tr style=\"text-align: right;\">\n",
       "      <th></th>\n",
       "      <th>R2</th>\n",
       "      <th>MAE</th>\n",
       "      <th>MSE</th>\n",
       "      <th>RMSE</th>\n",
       "    </tr>\n",
       "  </thead>\n",
       "  <tbody>\n",
       "    <tr>\n",
       "      <th>Testing LinReg2</th>\n",
       "      <td>0.520852</td>\n",
       "      <td>3.469734</td>\n",
       "      <td>40.822746</td>\n",
       "      <td>6.389268</td>\n",
       "    </tr>\n",
       "    <tr>\n",
       "      <th>Testing Ridge</th>\n",
       "      <td>0.516700</td>\n",
       "      <td>3.465919</td>\n",
       "      <td>41.176502</td>\n",
       "      <td>6.416892</td>\n",
       "    </tr>\n",
       "    <tr>\n",
       "      <th>Training LinReg2</th>\n",
       "      <td>0.496653</td>\n",
       "      <td>3.574548</td>\n",
       "      <td>46.676191</td>\n",
       "      <td>6.831998</td>\n",
       "    </tr>\n",
       "    <tr>\n",
       "      <th>Training Ridge</th>\n",
       "      <td>0.493299</td>\n",
       "      <td>3.570480</td>\n",
       "      <td>46.987247</td>\n",
       "      <td>6.854724</td>\n",
       "    </tr>\n",
       "    <tr>\n",
       "      <th>Testing Lasso</th>\n",
       "      <td>0.437808</td>\n",
       "      <td>3.778208</td>\n",
       "      <td>47.897958</td>\n",
       "      <td>6.920835</td>\n",
       "    </tr>\n",
       "    <tr>\n",
       "      <th>Testing ElasticNet</th>\n",
       "      <td>0.425610</td>\n",
       "      <td>3.861302</td>\n",
       "      <td>48.937248</td>\n",
       "      <td>6.995516</td>\n",
       "    </tr>\n",
       "    <tr>\n",
       "      <th>Training Lasso</th>\n",
       "      <td>0.416314</td>\n",
       "      <td>3.896836</td>\n",
       "      <td>54.126178</td>\n",
       "      <td>7.357050</td>\n",
       "    </tr>\n",
       "    <tr>\n",
       "      <th>Training ElasticNet</th>\n",
       "      <td>0.407576</td>\n",
       "      <td>3.968117</td>\n",
       "      <td>54.936520</td>\n",
       "      <td>7.411917</td>\n",
       "    </tr>\n",
       "  </tbody>\n",
       "</table>\n",
       "</div>"
      ],
      "text/plain": [
       "                           R2       MAE        MSE      RMSE\n",
       "Testing LinReg2      0.520852  3.469734  40.822746  6.389268\n",
       "Testing Ridge        0.516700  3.465919  41.176502  6.416892\n",
       "Training LinReg2     0.496653  3.574548  46.676191  6.831998\n",
       "Training Ridge       0.493299  3.570480  46.987247  6.854724\n",
       "Testing Lasso        0.437808  3.778208  47.897958  6.920835\n",
       "Testing ElasticNet   0.425610  3.861302  48.937248  6.995516\n",
       "Training Lasso       0.416314  3.896836  54.126178  7.357050\n",
       "Training ElasticNet  0.407576  3.968117  54.936520  7.411917"
      ]
     },
     "execution_count": 101,
     "metadata": {},
     "output_type": "execute_result"
    }
   ],
   "source": [
    "pd.concat([df_LinReg2, df_Ridge2, df_Lasso2, df_ElasticNet2], axis = 1).T.sort_values('R2', ascending =False)"
   ]
  },
  {
   "cell_type": "markdown",
   "id": "685f8828-8110-40ee-837c-a8d154aa1357",
   "metadata": {},
   "source": [
    "### Optimize 3"
   ]
  },
  {
   "cell_type": "markdown",
   "id": "01323bb4-1895-480a-822a-42fc8c5e8699",
   "metadata": {},
   "source": [
    "- Tuning (Manual Tuning)\n",
    "=> Tuning ==> Proses pencarian value terbaik untuk Hyper parameter dari Algoritma ML\n",
    "=> Ketika memasukkan Value parameter yang ingin diuji, pastikan parameter default sudah ikut di dalamnya"
   ]
  },
  {
   "cell_type": "code",
   "execution_count": 102,
   "id": "dcdd3305-0af2-4203-bbf3-52b6485b4d24",
   "metadata": {},
   "outputs": [],
   "source": [
    "Alpha = np.arange(0, 3, 0.01)"
   ]
  },
  {
   "cell_type": "code",
   "execution_count": 103,
   "id": "a9ccc523-a0d5-4c57-b206-4c58270c2654",
   "metadata": {},
   "outputs": [],
   "source": [
    "train_r = []\n",
    "test_r = []\n",
    "\n",
    "for i in Alpha:\n",
    "    Model_R = Ridge(alpha =i)\n",
    "    Model_R.fit(X_train_1, y_train_1)\n",
    "    y_pred_tr = Model_R.predict(X_train_1)\n",
    "    R2_train = r2_score(y_train_1, y_pred_tr)\n",
    "    train_r.append(R2_train)\n",
    "    y_pred_test = Model_R.predict(X_test_1)\n",
    "    R2_test = r2_score(y_test_1, y_pred_test)\n",
    "    test_r.append(R2_test)\n"
   ]
  },
  {
   "cell_type": "code",
   "execution_count": 104,
   "id": "c73af278-67ac-4336-929c-18b70b64a7cc",
   "metadata": {},
   "outputs": [
    {
     "data": {
      "text/plain": [
       "<function matplotlib.pyplot.show(close=None, block=None)>"
      ]
     },
     "execution_count": 104,
     "metadata": {},
     "output_type": "execute_result"
    },
    {
     "data": {
      "image/png": "[encoded data removed]",
      "text/plain": [
       "<Figure size 576x504 with 1 Axes>"
      ]
     },
     "metadata": {
      "needs_background": "light"
     },
     "output_type": "display_data"
    }
   ],
   "source": [
    "plt.figure(figsize=(8,7))\n",
    "plt.plot(Alpha, train_r, 'r*-')\n",
    "plt.plot(Alpha, test_r, 'b*-')\n",
    "plt.legend(['Train R2', 'Test R2'])\n",
    "plt.show"
   ]
  },
  {
   "cell_type": "code",
   "execution_count": 105,
   "id": "48abc3a0-bf20-4d73-bd44-f1697b177813",
   "metadata": {},
   "outputs": [],
   "source": [
    "def Manual_Tune(Alpha, X_train, X_test, y_train, y_test, Model):\n",
    "    train_r = []\n",
    "    test_r = []\n",
    "\n",
    "    for i in Alpha:\n",
    "        Model_R = Model(alpha =i)\n",
    "        Model_R.fit(X_train, y_train)\n",
    "        y_pred_tr = Model_R.predict(X_train)\n",
    "        R2_train = r2_score(y_train, y_pred_tr)\n",
    "        train_r.append(R2_train)\n",
    "        y_pred_test = Model_R.predict(X_test)\n",
    "        R2_test = r2_score(y_test, y_pred_test)\n",
    "        test_r.append(R2_test)\n",
    "    return train_r, test_r\n"
   ]
  },
  {
   "cell_type": "code",
   "execution_count": 106,
   "id": "99c19647-b4f2-4b3d-8b23-8aae9aeabc1d",
   "metadata": {},
   "outputs": [],
   "source": [
    "Alpha = np.arange(0, 1, 0.0001)"
   ]
  },
  {
   "cell_type": "code",
   "execution_count": 107,
   "id": "e6e7a827-72dc-4f15-9d88-7c0bec574c9a",
   "metadata": {},
   "outputs": [
    {
     "ename": "KeyboardInterrupt",
     "evalue": "",
     "output_type": "error",
     "traceback": [
      "\u001b[1;31m---------------------------------------------------------------------------\u001b[0m",
      "\u001b[1;31mKeyboardInterrupt\u001b[0m                         Traceback (most recent call last)",
      "\u001b[1;32m~\\AppData\\Local\\Temp/ipykernel_20024/2855394487.py\u001b[0m in \u001b[0;36m<module>\u001b[1;34m\u001b[0m\n\u001b[1;32m----> 1\u001b[1;33m \u001b[0mtrain_Enet\u001b[0m\u001b[1;33m,\u001b[0m \u001b[0mtest_Enet\u001b[0m \u001b[1;33m=\u001b[0m \u001b[0mManual_Tune\u001b[0m\u001b[1;33m(\u001b[0m\u001b[0mAlpha\u001b[0m\u001b[1;33m,\u001b[0m \u001b[0mX_train_1\u001b[0m\u001b[1;33m,\u001b[0m \u001b[0mX_test_1\u001b[0m\u001b[1;33m,\u001b[0m \u001b[0my_train_1\u001b[0m\u001b[1;33m,\u001b[0m \u001b[0my_test_1\u001b[0m\u001b[1;33m,\u001b[0m \u001b[0mElasticNet\u001b[0m\u001b[1;33m)\u001b[0m\u001b[1;33m\u001b[0m\u001b[1;33m\u001b[0m\u001b[0m\n\u001b[0m",
      "\u001b[1;32m~\\AppData\\Local\\Temp/ipykernel_20024/696901049.py\u001b[0m in \u001b[0;36mManual_Tune\u001b[1;34m(Alpha, X_train, X_test, y_train, y_test, Model)\u001b[0m\n\u001b[0;32m      5\u001b[0m     \u001b[1;32mfor\u001b[0m \u001b[0mi\u001b[0m \u001b[1;32min\u001b[0m \u001b[0mAlpha\u001b[0m\u001b[1;33m:\u001b[0m\u001b[1;33m\u001b[0m\u001b[1;33m\u001b[0m\u001b[0m\n\u001b[0;32m      6\u001b[0m         \u001b[0mModel_R\u001b[0m \u001b[1;33m=\u001b[0m \u001b[0mModel\u001b[0m\u001b[1;33m(\u001b[0m\u001b[0malpha\u001b[0m \u001b[1;33m=\u001b[0m\u001b[0mi\u001b[0m\u001b[1;33m)\u001b[0m\u001b[1;33m\u001b[0m\u001b[1;33m\u001b[0m\u001b[0m\n\u001b[1;32m----> 7\u001b[1;33m         \u001b[0mModel_R\u001b[0m\u001b[1;33m.\u001b[0m\u001b[0mfit\u001b[0m\u001b[1;33m(\u001b[0m\u001b[0mX_train\u001b[0m\u001b[1;33m,\u001b[0m \u001b[0my_train\u001b[0m\u001b[1;33m)\u001b[0m\u001b[1;33m\u001b[0m\u001b[1;33m\u001b[0m\u001b[0m\n\u001b[0m\u001b[0;32m      8\u001b[0m         \u001b[0my_pred_tr\u001b[0m \u001b[1;33m=\u001b[0m \u001b[0mModel_R\u001b[0m\u001b[1;33m.\u001b[0m\u001b[0mpredict\u001b[0m\u001b[1;33m(\u001b[0m\u001b[0mX_train\u001b[0m\u001b[1;33m)\u001b[0m\u001b[1;33m\u001b[0m\u001b[1;33m\u001b[0m\u001b[0m\n\u001b[0;32m      9\u001b[0m         \u001b[0mR2_train\u001b[0m \u001b[1;33m=\u001b[0m \u001b[0mr2_score\u001b[0m\u001b[1;33m(\u001b[0m\u001b[0my_train\u001b[0m\u001b[1;33m,\u001b[0m \u001b[0my_pred_tr\u001b[0m\u001b[1;33m)\u001b[0m\u001b[1;33m\u001b[0m\u001b[1;33m\u001b[0m\u001b[0m\n",
      "\u001b[1;32m~\\anaconda3\\lib\\site-packages\\sklearn\\linear_model\\_coordinate_descent.py\u001b[0m in \u001b[0;36mfit\u001b[1;34m(self, X, y, sample_weight, check_input)\u001b[0m\n\u001b[0;32m    842\u001b[0m                 \u001b[0mthis_Xy\u001b[0m \u001b[1;33m=\u001b[0m \u001b[1;32mNone\u001b[0m\u001b[1;33m\u001b[0m\u001b[1;33m\u001b[0m\u001b[0m\n\u001b[0;32m    843\u001b[0m             \u001b[0m_\u001b[0m\u001b[1;33m,\u001b[0m \u001b[0mthis_coef\u001b[0m\u001b[1;33m,\u001b[0m \u001b[0mthis_dual_gap\u001b[0m\u001b[1;33m,\u001b[0m \u001b[0mthis_iter\u001b[0m \u001b[1;33m=\u001b[0m\u001b[0;31m \u001b[0m\u001b[0;31m\\\u001b[0m\u001b[1;33m\u001b[0m\u001b[1;33m\u001b[0m\u001b[0m\n\u001b[1;32m--> 844\u001b[1;33m                 self.path(X, y[:, k],\n\u001b[0m\u001b[0;32m    845\u001b[0m                           \u001b[0ml1_ratio\u001b[0m\u001b[1;33m=\u001b[0m\u001b[0mself\u001b[0m\u001b[1;33m.\u001b[0m\u001b[0ml1_ratio\u001b[0m\u001b[1;33m,\u001b[0m \u001b[0meps\u001b[0m\u001b[1;33m=\u001b[0m\u001b[1;32mNone\u001b[0m\u001b[1;33m,\u001b[0m\u001b[1;33m\u001b[0m\u001b[1;33m\u001b[0m\u001b[0m\n\u001b[0;32m    846\u001b[0m                           \u001b[0mn_alphas\u001b[0m\u001b[1;33m=\u001b[0m\u001b[1;32mNone\u001b[0m\u001b[1;33m,\u001b[0m \u001b[0malphas\u001b[0m\u001b[1;33m=\u001b[0m\u001b[1;33m[\u001b[0m\u001b[0malpha\u001b[0m\u001b[1;33m]\u001b[0m\u001b[1;33m,\u001b[0m\u001b[1;33m\u001b[0m\u001b[1;33m\u001b[0m\u001b[0m\n",
      "\u001b[1;32m~\\anaconda3\\lib\\site-packages\\sklearn\\utils\\validation.py\u001b[0m in \u001b[0;36minner_f\u001b[1;34m(*args, **kwargs)\u001b[0m\n\u001b[0;32m     61\u001b[0m             \u001b[0mextra_args\u001b[0m \u001b[1;33m=\u001b[0m \u001b[0mlen\u001b[0m\u001b[1;33m(\u001b[0m\u001b[0margs\u001b[0m\u001b[1;33m)\u001b[0m \u001b[1;33m-\u001b[0m \u001b[0mlen\u001b[0m\u001b[1;33m(\u001b[0m\u001b[0mall_args\u001b[0m\u001b[1;33m)\u001b[0m\u001b[1;33m\u001b[0m\u001b[1;33m\u001b[0m\u001b[0m\n\u001b[0;32m     62\u001b[0m             \u001b[1;32mif\u001b[0m \u001b[0mextra_args\u001b[0m \u001b[1;33m<=\u001b[0m \u001b[1;36m0\u001b[0m\u001b[1;33m:\u001b[0m\u001b[1;33m\u001b[0m\u001b[1;33m\u001b[0m\u001b[0m\n\u001b[1;32m---> 63\u001b[1;33m                 \u001b[1;32mreturn\u001b[0m \u001b[0mf\u001b[0m\u001b[1;33m(\u001b[0m\u001b[1;33m*\u001b[0m\u001b[0margs\u001b[0m\u001b[1;33m,\u001b[0m \u001b[1;33m**\u001b[0m\u001b[0mkwargs\u001b[0m\u001b[1;33m)\u001b[0m\u001b[1;33m\u001b[0m\u001b[1;33m\u001b[0m\u001b[0m\n\u001b[0m\u001b[0;32m     64\u001b[0m \u001b[1;33m\u001b[0m\u001b[0m\n\u001b[0;32m     65\u001b[0m             \u001b[1;31m# extra_args > 0\u001b[0m\u001b[1;33m\u001b[0m\u001b[1;33m\u001b[0m\u001b[0m\n",
      "\u001b[1;32m~\\anaconda3\\lib\\site-packages\\sklearn\\linear_model\\_coordinate_descent.py\u001b[0m in \u001b[0;36menet_path\u001b[1;34m(X, y, l1_ratio, eps, n_alphas, alphas, precompute, Xy, copy_X, coef_init, verbose, return_n_iter, positive, check_input, **params)\u001b[0m\n\u001b[0;32m    528\u001b[0m                 tol, rng, random, positive)\n\u001b[0;32m    529\u001b[0m         \u001b[1;32melif\u001b[0m \u001b[0mprecompute\u001b[0m \u001b[1;32mis\u001b[0m \u001b[1;32mFalse\u001b[0m\u001b[1;33m:\u001b[0m\u001b[1;33m\u001b[0m\u001b[1;33m\u001b[0m\u001b[0m\n\u001b[1;32m--> 530\u001b[1;33m             model = cd_fast.enet_coordinate_descent(\n\u001b[0m\u001b[0;32m    531\u001b[0m                 \u001b[0mcoef_\u001b[0m\u001b[1;33m,\u001b[0m \u001b[0ml1_reg\u001b[0m\u001b[1;33m,\u001b[0m \u001b[0ml2_reg\u001b[0m\u001b[1;33m,\u001b[0m \u001b[0mX\u001b[0m\u001b[1;33m,\u001b[0m \u001b[0my\u001b[0m\u001b[1;33m,\u001b[0m \u001b[0mmax_iter\u001b[0m\u001b[1;33m,\u001b[0m \u001b[0mtol\u001b[0m\u001b[1;33m,\u001b[0m \u001b[0mrng\u001b[0m\u001b[1;33m,\u001b[0m \u001b[0mrandom\u001b[0m\u001b[1;33m,\u001b[0m\u001b[1;33m\u001b[0m\u001b[1;33m\u001b[0m\u001b[0m\n\u001b[0;32m    532\u001b[0m                 positive)\n",
      "\u001b[1;31mKeyboardInterrupt\u001b[0m: "
     ]
    }
   ],
   "source": [
    "train_Enet, test_Enet = Manual_Tune(Alpha, X_train_1, X_test_1, y_train_1, y_test_1, ElasticNet)"
   ]
  },
  {
   "cell_type": "code",
   "execution_count": null,
   "id": "a327d38f-3508-489e-826f-761a98a46ce9",
   "metadata": {},
   "outputs": [],
   "source": [
    "plt.figure(figsize=(8,7))\n",
    "plt.plot(Alpha, train_Enet, 'r*-')\n",
    "plt.plot(Alpha, test_Enet, 'b*-')\n",
    "plt.ylabel(\"R2\")\n",
    "plt.xlabel(\"Alpha\")\n",
    "plt.legend(['Train R2', 'Test R2'])\n",
    "plt.show()"
   ]
  },
  {
   "cell_type": "code",
   "execution_count": null,
   "id": "8d4f8b88-e4fb-478d-a511-adf576d3bd80",
   "metadata": {},
   "outputs": [],
   "source": [
    "### Distribusi Error"
   ]
  },
  {
   "cell_type": "code",
   "execution_count": null,
   "id": "a0de68b4-bbbe-48d6-9ce2-8a7f2f340544",
   "metadata": {},
   "outputs": [],
   "source": [
    "df_error_T = X_train_1.copy()"
   ]
  },
  {
   "cell_type": "code",
   "execution_count": null,
   "id": "324a150b-25f8-49eb-b268-e253eea8fbe8",
   "metadata": {},
   "outputs": [],
   "source": [
    "df_error_T.head()"
   ]
  },
  {
   "cell_type": "code",
   "execution_count": null,
   "id": "9292af37-3328-4d64-a283-0a88fabba28c",
   "metadata": {},
   "outputs": [],
   "source": [
    "df_error_T['target'] = y_train_1"
   ]
  },
  {
   "cell_type": "code",
   "execution_count": null,
   "id": "7f73e289-0696-434c-abe5-76c0fb2a34f1",
   "metadata": {},
   "outputs": [],
   "source": [
    "df_error_T.head()"
   ]
  },
  {
   "cell_type": "code",
   "execution_count": null,
   "id": "14fbb071-dc8e-4d5b-b423-207f79313630",
   "metadata": {},
   "outputs": [],
   "source": [
    "np.max(test_Enet)"
   ]
  },
  {
   "cell_type": "code",
   "execution_count": null,
   "id": "30379996-997b-46d1-af6a-c8cb6b1783de",
   "metadata": {},
   "outputs": [],
   "source": [
    "np.max(test_r)"
   ]
  },
  {
   "cell_type": "code",
   "execution_count": null,
   "id": "c1c40471-4eab-444b-b1e1-8cd8dc83b958",
   "metadata": {},
   "outputs": [],
   "source": [
    "Alpha[np.argmax(test_r)]"
   ]
  },
  {
   "cell_type": "code",
   "execution_count": null,
   "id": "423506dc-3329-4ad8-bc0e-c441434c82af",
   "metadata": {},
   "outputs": [],
   "source": [
    "Model_R = Ridge(alpha=0.0)"
   ]
  },
  {
   "cell_type": "code",
   "execution_count": null,
   "id": "89476914-1599-4616-862b-074c6ce59660",
   "metadata": {},
   "outputs": [],
   "source": [
    "Model_R.fit(X_train_1, y_train_1)"
   ]
  },
  {
   "cell_type": "code",
   "execution_count": null,
   "id": "550e47d3-55df-4cbd-89a0-48a84f529d37",
   "metadata": {},
   "outputs": [],
   "source": [
    "pred_train = Model_R.predict(X_train_1)"
   ]
  },
  {
   "cell_type": "code",
   "execution_count": null,
   "id": "fcada53f-d139-4377-9fd6-121b7646d986",
   "metadata": {},
   "outputs": [],
   "source": [
    "df_error_T['prediksi'] = pred_train"
   ]
  },
  {
   "cell_type": "code",
   "execution_count": null,
   "id": "dacb903b-f622-4d4d-b7f6-a7d7a3572d8e",
   "metadata": {},
   "outputs": [],
   "source": [
    "df_error_T['Error'] = abs(df_error_T['target'] - df_error_T['prediksi'])"
   ]
  },
  {
   "cell_type": "code",
   "execution_count": null,
   "id": "44d268e8-d6b4-48b7-8ab6-1889880661f2",
   "metadata": {},
   "outputs": [],
   "source": [
    "plt.hist(df_error_T['Error'])\n",
    "plt.xlabel('Error')\n",
    "plt.show()"
   ]
  },
  {
   "cell_type": "code",
   "execution_count": null,
   "id": "13d76c5d-84b1-46e0-99ed-1c11ae9a80ba",
   "metadata": {},
   "outputs": [],
   "source": [
    "sns.distplot(df_error_T['Error'])\n",
    "plt.show()"
   ]
  },
  {
   "cell_type": "code",
   "execution_count": null,
   "id": "e4573fdf-7d0e-410c-80f4-a29fd71e19b5",
   "metadata": {},
   "outputs": [],
   "source": [
    "plt.scatter(df_error_T['target'], df_error_T['Error'])\n",
    "plt.xlabel('Target')\n",
    "plt.show()"
   ]
  },
  {
   "cell_type": "code",
   "execution_count": null,
   "id": "f9c9bfe9-1da0-4eed-b327-f125e1cf761a",
   "metadata": {},
   "outputs": [],
   "source": [
    "df_error_T.sort_values('Error', ascending = False)"
   ]
  },
  {
   "cell_type": "code",
   "execution_count": null,
   "id": "596fbd6f-2445-46d2-8124-75e9641da143",
   "metadata": {},
   "outputs": [],
   "source": []
  }
 ],
 "metadata": {
  "kernelspec": {
   "display_name": "Python 3 (ipykernel)",
   "language": "python",
   "name": "python3"
  },
  "language_info": {
   "codemirror_mode": {
    "name": "ipython",
    "version": 3
   },
   "file_extension": ".py",
   "mimetype": "text/x-python",
   "name": "python",
   "nbconvert_exporter": "python",
   "pygments_lexer": "ipython3",
   "version": "3.9.7"
  }
 },
 "nbformat": 4,
 "nbformat_minor": 5
}
